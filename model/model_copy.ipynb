{
 "cells": [
  {
   "cell_type": "code",
   "execution_count": 2,
   "metadata": {},
   "outputs": [],
   "source": [
    "from pandas.core.frame import DataFrame\n",
    "import yfinance as yf\n",
    "import pandas as pd\n",
    "import numpy as np\n",
    "import talib as ta\n",
    "from sklearn.linear_model import LinearRegression\n",
    "from sklearn.ensemble import RandomForestRegressor\n",
    "from datetime import datetime, timedelta\n",
    "from matplotlib import pyplot as plt\n",
    "\n",
    "ticker = 'IRCTC'"
   ]
  },
  {
   "cell_type": "code",
   "execution_count": 4,
   "metadata": {},
   "outputs": [],
   "source": [
    "start = (datetime.now() - timedelta(days=15000)).date()\n",
    "end = (datetime.now() - timedelta(days=1)).date()\n",
    "data = pd.read_csv('data/TATAPOWER.csv')\n",
    "span = 50\n",
    "model = LinearRegression()\n",
    "regressor = RandomForestRegressor(n_estimators=100, random_state=0)"
   ]
  },
  {
   "cell_type": "code",
   "execution_count": 33,
   "metadata": {},
   "outputs": [],
   "source": [
    "\"\"\"\n",
    "\tParameters\n",
    "\t----------\n",
    "\tdf -> Dataframe of stock's historical data\n",
    "\tindicator -> mathematical formula to make an indicator on\n",
    "\t\tSupported indicators:\n",
    "\t\t\trsi -> Relative Strength Indicator\n",
    "\t\t\tmacd -> Moving Average Convergence Divergence\n",
    "\t\t\tema -> Exponential Moving Average\n",
    "\t\t\tvolume -> It's not actually an indicator but we are using it to analyse\n",
    "\t\t\tprice volume data by correlating price movements with volume.\n",
    "\tentry_type -> The view of underlying stock.\n",
    "\t\tlong -> We take long entry for bullishness\n",
    "\t\tshort -> We take short entry for bearishness\n",
    "\t\"\"\"\n",
    "def get_rsi(rsiValue):\n",
    "\tif rsiValue in range(60,70):\n",
    "\t\tprint(\"Here\")\n",
    "\t\treturn 5\n",
    "\telif rsiValue in range(70,80):\n",
    "\t\treturn 4\n",
    "\telif rsiValue >= 80:\n",
    "\t\treturn 3\n",
    "\telif rsiValue in range(50,60):\n",
    "\t\treturn 2\n",
    "\telse:\n",
    "\t\treturn 0\n",
    "def get_score(df: DataFrame, indicator: str, entry_type='long'):\n",
    "\tindicator = indicator.upper()\n",
    "\n",
    "\tif indicator == 'RSI' and entry_type == 'long':\n",
    "\t\t\"\"\"\n",
    "\t\tGeneral Strategy with RSI:\n",
    "\t\t\tIf RSI Value is >= 70:\n",
    "\t\t\t\tIt is considered that the stock is overpriced as\n",
    "\t\t\t\tthe stock is overbought in the last few trading sessions.\n",
    "\t\t\t\t\n",
    "\t\t\t\tIncreasing RSI is generally considered a negative sign,\n",
    "\t\t\t\tand the stock is expected to be bearish.\n",
    "\t\t\tIf RSI Value is <= 30:\n",
    "\t\t\t\tIt is considered that the stock is underpriced as\n",
    "\t\t\t\tthe stock is oversold in the last few trading sessions.\n",
    "\n",
    "\t\t\t\tDecreasing RSI is generally considered as a positive sign,\n",
    "\t\t\t\tand the stock is expected to be bullish in upcoming trading sessions.\n",
    "\n",
    "\t\tOur strategy with RSI:\n",
    "\t\t\tIf RSI Value in range of 60-70\n",
    "\t\t\t\tWe consider this the best range of RSI as if the stock has\n",
    "\t\t\t\tRSI value of >=60 and <= 70. It is not overbought but it actually\n",
    "\t\t\t\tdeserves to be a performing stock.\n",
    "\n",
    "\t\t\t\tWe expect the stock to perform more in upcoming trading sessions.\n",
    "\n",
    "\t\t\tIf RSI Value in range of 70-80\n",
    "\t\t\t\tWe consider this the next best range of RSI. If the stock is in \n",
    "\t\t\t\tragne of this we can expect bullishness but now the upmove is\n",
    "\t\t\t\tconsidered to be weak as the move may have came to an end as \n",
    "\t\t\t\tRSI is already this much high.\n",
    "\t\t\t\n",
    "\t\t\tIf RSI Value in range of >= 80\n",
    "\t\t\t\tWe consider this as a weakening score and a potential threat, \n",
    "\t\t\t\tas the stock might be actually overperforming. \n",
    "\n",
    "\t\t\t\tThis is just like a typical overbought zone.\n",
    "\t\t\t\n",
    "\t\t\tIf RSI Value in range 50-60\n",
    "\t\t\t\tWe consider this as a moderate range, and the stock might\n",
    "\t\t\t\tstart performing from here. So we return the score with value of 2.\n",
    "\n",
    "\t\t\tIf any given condition is not matched we simply return the score value of 0.\n",
    "\t\t\"\"\"\n",
    "\t\trsiValue = df.rsi.head(1).values[0]\n",
    "\t\tif rsiValue in range(60,70):\n",
    "\t\t\tyield 5\n",
    "\t\telif rsiValue in range(70,80):\n",
    "\t\t\treturn 4\n",
    "\t\telif rsiValue >= 80:\n",
    "\t\t\treturn 3\n",
    "\t\telif rsiValue in range(50,60):\n",
    "\t\t\treturn 2\n",
    "\t\telse:\n",
    "\t\t\treturn 0\n",
    "\t\"\"\"\n",
    "\t\tGeneral Strategy with MACD:\n",
    "\t\t\tIn MACD there are two components which are calculated.\n",
    "\t\t\tMACD Signal and MACD.\n",
    "\t\t\tIf value of MACD is greaten than MACD Signal, \n",
    "\t\t\t\tit is considered a bullish crossover and the stock might\n",
    "\t\t\t\tstart performing from here.\n",
    "\t\t\tIf value of MACD is less than MACD Signal,\n",
    "\t\t\t\tit is considered a bearish crossover and the stock might\n",
    "\t\t\t\tstart falling from here.\n",
    "\n",
    "\t\tOur Strategy with MACD:\n",
    "\t\t\tWe go along with the general strategy but with some modifications.\n",
    "\t\t\tInstead of simply checking the condition of MACD > Macd Signal, \n",
    "\t\t\twe check when the crossover happened.\n",
    "\n",
    "\t\t\tThe nearer the crossover with today's date the more strength the\n",
    "\t\t\tbuy signal has.\n",
    "\t\"\"\"\n",
    "\tif indicator == 'MACD' and entry_type == 'long':\n",
    "\t\tmacd = df.macd_crossover\n",
    "\t\ttry:\n",
    "\t\t\tdate = macd.iloc[list(np.where(df[\"macd_crossover\"] == 1)[0])].index.values[0]\n",
    "\t\t\tdate = pd.to_datetime(date)\n",
    "\t\t\tdates = df.index.values\n",
    "\t\t\tfor i in range(0,len(dates)):\n",
    "\t\t\t\tif pd.to_datetime(dates[i]).date() == date:\n",
    "\t\t\t\t\treturn 5 - i\n",
    "\t\t\treturn 0\n",
    "\t\texcept IndexError:\n",
    "\t\t\treturn 0\n",
    "\tif indicator == 'MACD_BUY' and entry_type == 'long':\n",
    "\t\tmacd = df.macd_buy\n",
    "\t\ttry:\n",
    "\t\t\tdate = macd.iloc[list(np.where(df[\"macd_buy\"] == 1)[0])].index.values[0]\n",
    "\t\t\tdate = pd.to_datetime(date)\n",
    "\t\t\tdates = df.index.values\n",
    "\t\t\tfor i in range(0,len(dates)):\n",
    "\t\t\t\tif pd.to_datetime(dates[i]).date() == date:\n",
    "\t\t\t\t\treturn 5 - i\n",
    "\t\t\treturn 0\n",
    "\t\texcept IndexError:\n",
    "\t\t\treturn 0\n",
    "\tif indicator == 'EMA_BUY' and entry_type == 'long':\n",
    "\t\ttry:\n",
    "\t\t\tdate = df.ema_buy.iloc[list(np.where(df[\"ema_buy\"] == 1)[0])].index.values[0]\n",
    "\t\t\tdate = pd.to_datetime(date)\n",
    "\t\t\tdates = df.index.values\n",
    "\t\t\tfor i in range(0,len(dates)):\n",
    "\t\t\t\tif pd.to_datetime(dates[i]).date() == date:\n",
    "\t\t\t\t\treturn 5 - i\n",
    "\t\t\treturn 0\n",
    "\t\texcept IndexError:\n",
    "\t\t\treturn 0\n",
    "\tif indicator == 'EMA' and entry_type == 'long':\n",
    "\t\ttry:\n",
    "\t\t\tdate = df.ema_crossover.iloc[list(np.where(df[\"ema_crossover\"] == 1)[0])].index.values[0]\n",
    "\t\t\tdate = pd.to_datetime(date)\n",
    "\t\t\tdates = df.index.values\n",
    "\t\t\tfor i in range(0,len(dates)):\n",
    "\t\t\t\tif pd.to_datetime(dates[i]).date() == date:\n",
    "\t\t\t\t\treturn 5 - i\n",
    "\t\t\treturn 0\n",
    "\t\texcept IndexError:\n",
    "\t\t\treturn 0\n",
    "\tif indicator == 'VOLUME' and entry_type == 'long':\n",
    "\t\ttry:\n",
    "\t\t\tdate = df.volume_buy.iloc[list(np.where(df[\"volume_buy\"] == 1)[0])].index.values[0]\n",
    "\t\t\tdate = pd.to_datetime(date)\n",
    "\t\t\tdates = df.index.values\n",
    "\t\t\tfor i in range(0,len(dates)):\n",
    "\t\t\t\tif pd.to_datetime(dates[i]).date() == date:\n",
    "\t\t\t\t\treturn 5 - i\n",
    "\t\t\treturn 0\n",
    "\t\texcept IndexError:\n",
    "\t\t\treturn 0\n",
    "\treturn None"
   ]
  },
  {
   "cell_type": "code",
   "execution_count": 34,
   "metadata": {},
   "outputs": [],
   "source": [
    "data = data.tail(span+5)\n",
    "data['5EMA'] = pd.Series.ewm(data['Close'], span=5).mean()\n",
    "data['26EMA'] = pd.Series.ewm(data['Close'], span=26).mean()\n",
    "data['rsi'] = ta.RSI(data['Close'].values, timeperiod=14)\n",
    "\n",
    "data['macd'], data['macdSignal'], data['macdHist'] = ta.MACD(data.Close.values, fastperiod=12, slowperiod=26, signalperiod=9)\n",
    "\n",
    "data['macd_crossover'] = np.where(((data.macd > data.macdSignal) & (data.macd.shift(1) < data.macdSignal.shift(1))), 1, 0)\n",
    "data['macd_crossunder'] = np.where(((data.macd < data.macdSignal) & (data.macd.shift(1) > data.macdSignal.shift(1))), 1, 0)\n",
    "data['ema_crossover'] = np.where(((data['5EMA'].shift(1) <= data['26EMA'].shift(1)) & (data['5EMA'] > data['26EMA'] )), 1, 0)\n",
    "data['ema_crossunder'] = np.where(((data['5EMA'].shift(1) >= data['26EMA'].shift(1)) & (data['5EMA'] < data['26EMA'] )), 1, 0)\n",
    "data['macd_buy'] = np.where((data.macd > data.macdSignal), 1, 0)\n",
    "data['macd_sell'] = np.where((data.macd < data.macdSignal), 1, 0)\n",
    "data['ema_buy'] = np.where((data['5EMA'] > data['26EMA']), 1, 0)\n",
    "data['ema_sell'] = np.where((data['5EMA'] < data['26EMA']), 1, 0)\n",
    "data['rsi_buy'] = np.where(data.rsi >= 60, 1, 0)\n",
    "data['rsi_sell'] = np.where(data.rsi <= 40, 1, 0)\n",
    "\n",
    "data['volume_buy'] = np.where((data.Volume > data.Volume.ewm(span=5).mean()) & (data.Close > data.Close.shift(1)), 1, 0)\n",
    "data['volume_sell'] = np.where((data.Volume > data.Volume.ewm(span=5).mean()) & (data.Close < data.Close.shift(1)), 1, 0)"
   ]
  },
  {
   "cell_type": "code",
   "execution_count": 35,
   "metadata": {},
   "outputs": [],
   "source": []
  },
  {
   "cell_type": "code",
   "execution_count": 130,
   "metadata": {},
   "outputs": [],
   "source": [
    "data = data.iloc[-span:,:]\n",
    "data['totalScore'] = totalScoreL[-span:]\n",
    "data['totalScoreEma'] = data.totalScore.ewm(span=5).mean()\n",
    "data['dates'] = data.index.values\n",
    "data['dates'] = data['dates'].apply(lambda x: str(x.date()).split('-')[2])\n",
    "totalScoreX = data.iloc[:,-2:-1]\n",
    "datesY = data[\"dates\"]\n",
    "datesY = datesY.astype(int)\n"
   ]
  },
  {
   "cell_type": "code",
   "execution_count": 131,
   "metadata": {},
   "outputs": [
    {
     "name": "stderr",
     "output_type": "stream",
     "text": [
      "C:\\Users\\HP\\AppData\\Local\\Programs\\Python\\Python38-32\\lib\\site-packages\\seaborn\\_decorators.py:36: FutureWarning: Pass the following variables as keyword args: x, y. From version 0.12, the only valid positional argument will be `data`, and passing other arguments without an explicit keyword will result in an error or misinterpretation.\n",
      "  warnings.warn(\n"
     ]
    },
    {
     "data": {
      "image/png": "[encoded data removed]",
      "text/plain": [
       "<Figure size 432x288 with 1 Axes>"
      ]
     },
     "metadata": {
      "needs_background": "light"
     },
     "output_type": "display_data"
    }
   ],
   "source": [
    "import seaborn as sns\n",
    "sns.regplot(datesY, totalScoreX)\n",
    "plt.show()"
   ]
  },
  {
   "cell_type": "code",
   "execution_count": 132,
   "metadata": {},
   "outputs": [
    {
     "name": "stderr",
     "output_type": "stream",
     "text": [
      "C:\\Users\\HP\\AppData\\Local\\Programs\\Python\\Python38-32\\lib\\site-packages\\seaborn\\_decorators.py:36: FutureWarning: Pass the following variables as keyword args: x, y. From version 0.12, the only valid positional argument will be `data`, and passing other arguments without an explicit keyword will result in an error or misinterpretation.\n",
      "  warnings.warn(\n"
     ]
    },
    {
     "data": {
      "image/png": "[encoded data removed]",
      "text/plain": [
       "<Figure size 432x288 with 1 Axes>"
      ]
     },
     "metadata": {
      "needs_background": "light"
     },
     "output_type": "display_data"
    }
   ],
   "source": [
    "import seaborn as sns\n",
    "sns.regplot(data['totalScoreEma'], data['Close'])\n",
    "plt.show()"
   ]
  },
  {
   "cell_type": "code",
   "execution_count": 133,
   "metadata": {},
   "outputs": [
    {
     "data": {
      "text/plain": [
       "array([[8.25909238]])"
      ]
     },
     "execution_count": 133,
     "metadata": {},
     "output_type": "execute_result"
    }
   ],
   "source": [
    "model.fit(np.array(datesY).reshape(-1, 1), totalScoreX)\n",
    "yhat = model.predict([[29]]) #predict score for next day\n",
    "yhat"
   ]
  },
  {
   "cell_type": "code",
   "execution_count": 134,
   "metadata": {},
   "outputs": [
    {
     "data": {
      "text/plain": [
       "808.8122155761719"
      ]
     },
     "execution_count": 134,
     "metadata": {},
     "output_type": "execute_result"
    }
   ],
   "source": [
    "data.iloc[:,-2:]\n",
    "regressor.fit(np.asarray(data['totalScoreEma']).reshape(-1, 1),data['Close'])\n",
    "price = float(regressor.predict(yhat))\n",
    "price"
   ]
  },
  {
   "cell_type": "code",
   "execution_count": 135,
   "metadata": {},
   "outputs": [
    {
     "data": {
      "text/plain": [
       "(875.9483348396453, 802.0516651603547)"
      ]
     },
     "execution_count": 135,
     "metadata": {},
     "output_type": "execute_result"
    }
   ],
   "source": [
    "max_std = data.Close.values[-1] + data.Close.std() / 2\n",
    "min_std = data.Close.values[-1] - data.Close.std() / 2\n",
    "max_std, min_std"
   ]
  },
  {
   "cell_type": "code",
   "execution_count": 137,
   "metadata": {},
   "outputs": [
    {
     "data": {
      "text/plain": [
       "839.0"
      ]
     },
     "execution_count": 137,
     "metadata": {},
     "output_type": "execute_result"
    }
   ],
   "source": [
    "import math\n",
    "if not price in range(int(math.floor(min_std)), int(math.ceil(max_std))):\n",
    "\tif price > max_std:\n",
    "\t\tprice = max_std - data.Close.std() / 2\n",
    "\telse:\n",
    "\t\tprice = min_std + data.Close.std() / 2\n",
    "price"
   ]
  },
  {
   "cell_type": "code",
   "execution_count": null,
   "metadata": {},
   "outputs": [],
   "source": []
  }
 ],
 "metadata": {
  "interpreter": {
   "hash": "4af90f45c7792a747df031fcfb3e75fbadd5ecde1f96328d33556550aaa66aac"
  },
  "kernelspec": {
   "display_name": "Python 3.8.5 32-bit",
   "language": "python",
   "name": "python3"
  },
  "language_info": {
   "codemirror_mode": {
    "name": "ipython",
    "version": 3
   },
   "file_extension": ".py",
   "mimetype": "text/x-python",
   "name": "python",
   "nbconvert_exporter": "python",
   "pygments_lexer": "ipython3",
   "version": "3.8.5"
  },
  "orig_nbformat": 4
 },
 "nbformat": 4,
 "nbformat_minor": 2
}
