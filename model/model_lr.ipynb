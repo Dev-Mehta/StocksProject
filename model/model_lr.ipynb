{
 "cells": [
  {
   "cell_type": "code",
   "execution_count": 31,
   "metadata": {},
   "outputs": [],
   "source": [
    "import pandas as pd, numpy as np\n",
    "from sklearn.linear_model import LinearRegression\n",
    "from sklearn.ensemble import RandomForestRegressor\n",
    "from sklearn.model_selection import train_test_split\n",
    "from matplotlib import pyplot as plt\n",
    "from pandas import DataFrame"
   ]
  },
  {
   "cell_type": "code",
   "execution_count": 88,
   "metadata": {},
   "outputs": [],
   "source": [
    "data = pd.read_csv(\"output/TECHM.csv\")"
   ]
  },
  {
   "cell_type": "code",
   "execution_count": 89,
   "metadata": {},
   "outputs": [],
   "source": [
    "def get_score(df: DataFrame, indicator: str, entry_type='long'):\n",
    "\tindicator = indicator.upper()\n",
    " \n",
    "\tif indicator == 'RSI' and entry_type == 'long':\n",
    "\t\ttry:\n",
    "\t\t\trsiValue = df.rsi.head(1).values[0]\n",
    "\t\t\tif rsiValue in range(60,70):\n",
    "\t\t\t\treturn 5\n",
    "\t\t\telif rsiValue in range(70,80):\n",
    "\t\t\t\treturn 4\n",
    "\t\t\telif rsiValue >= 80:\n",
    "\t\t\t\treturn 3\n",
    "\t\t\telif rsiValue in range(50,60):\n",
    "\t\t\t\treturn 2\n",
    "\t\t\telse:\n",
    "\t\t\t\treturn 0\n",
    "\t\texcept IndexError:\n",
    "\t\t\treturn 0\n",
    "\tif indicator == 'MACD' and entry_type == 'long':\n",
    "\t\tmacd = df.macd_crossover\n",
    "\t\ttry:\n",
    "\t\t\tdate = macd.iloc[list(np.where(df[\"macd_crossover\"] == 1)[0])].index.values[0]\n",
    "\t\t\tdate = pd.to_datetime(date)\n",
    "\t\t\tdates = df.index.values\n",
    "\t\t\tfor i in range(0,len(dates)):\n",
    "\t\t\t\tif pd.to_datetime(dates[i]).date() == date:\n",
    "\t\t\t\t\treturn 5 - i\n",
    "\t\t\treturn 0\n",
    "\t\texcept IndexError:\n",
    "\t\t\treturn 0\n",
    "\tif indicator == 'EMA' and entry_type == 'long':\n",
    "\t\ttry:\n",
    "\t\t\tdate = df.ema_crossover.iloc[list(np.where(df[\"ema_crossover\"] == 1)[0])].index.values[0]\n",
    "\t\t\tdate = pd.to_datetime(date)\n",
    "\t\t\tdates = df.index.values\n",
    "\t\t\tfor i in range(0,len(dates)):\n",
    "\t\t\t\tif pd.to_datetime(dates[i]).date() == date:\n",
    "\t\t\t\t\treturn 5 - i\n",
    "\t\t\treturn 0\n",
    "\t\texcept IndexError:\n",
    "\t\t\treturn 0\n",
    "\tif indicator == 'VOLUME' and entry_type == 'long':\n",
    "\t\ttry:\n",
    "\t\t\tdate = df.volume_buy.iloc[list(np.where(df[\"volume_buy\"] == 1)[0])].index.values[0]\n",
    "\t\t\tdate = pd.to_datetime(date)\n",
    "\t\t\tdates = df.index.values\n",
    "\t\t\tfor i in range(0,len(dates)):\n",
    "\t\t\t\tif pd.to_datetime(dates[i]).date() == date:\n",
    "\t\t\t\t\treturn 5 - i\n",
    "\t\t\treturn 0\n",
    "\t\texcept IndexError:\n",
    "\t\t\treturn 0\n",
    "\treturn None\n",
    "totalScoreL = [0,0,0,0,0]\n",
    "for i in range(len(data.index.values)-5):\n",
    "\tdf = data[i:i+5]\n",
    "\trsiScore = get_score(df, indicator='rsi')\n",
    "\tmacdScore = get_score(df, indicator='macd')\n",
    "\temaScore = get_score(df, indicator='ema')\n",
    "\tvolumeScore = get_score(df, indicator='volume')\n",
    "\ttotalScore = rsiScore + macdScore + emaScore + volumeScore\n",
    "\ttotalScoreL.append(totalScore)\n",
    "len(totalScoreL)\n",
    "data['totalScore'] = totalScoreL\n",
    "data['totalScoreEma'] = data.totalScore.ewm(span=5).mean()"
   ]
  },
  {
   "cell_type": "code",
   "execution_count": 90,
   "metadata": {},
   "outputs": [],
   "source": [
    "span = 20\n",
    "data.set_index(\"Date\", inplace=True)\n",
    "data['dates'] = data.index.values\n",
    "data['dates'] = data['dates'].apply(lambda x: x.split('-')[2])\n",
    "totalScoreX = data.iloc[:,-2:-1]\n",
    "data = data.iloc[-span:,:]\n",
    "datesY = data[\"dates\"]\n",
    "datesY = datesY.astype(int)\n",
    "totalScoreX = totalScoreX.iloc[-span:,:]"
   ]
  },
  {
   "cell_type": "code",
   "execution_count": 91,
   "metadata": {},
   "outputs": [
    {
     "data": {
      "text/plain": [
       "LinearRegression()"
      ]
     },
     "execution_count": 91,
     "metadata": {},
     "output_type": "execute_result"
    }
   ],
   "source": [
    "from sklearn.linear_model import LinearRegression\n",
    "\n",
    "model = LinearRegression()\n",
    "model.fit(np.array(datesY).reshape(-1, 1), totalScoreX)"
   ]
  },
  {
   "cell_type": "code",
   "execution_count": 92,
   "metadata": {},
   "outputs": [
    {
     "name": "stderr",
     "output_type": "stream",
     "text": [
      "C:\\Users\\HP\\AppData\\Local\\Programs\\Python\\Python38-32\\lib\\site-packages\\seaborn\\_decorators.py:36: FutureWarning: Pass the following variables as keyword args: x, y. From version 0.12, the only valid positional argument will be `data`, and passing other arguments without an explicit keyword will result in an error or misinterpretation.\n",
      "  warnings.warn(\n"
     ]
    },
    {
     "data": {
      "image/png": "[encoded data removed]",
      "text/plain": [
       "<Figure size 432x288 with 1 Axes>"
      ]
     },
     "metadata": {
      "needs_background": "light"
     },
     "output_type": "display_data"
    }
   ],
   "source": [
    "import seaborn as sns\n",
    "sns.regplot(datesY, totalScoreX)\n",
    "plt.show()"
   ]
  },
  {
   "cell_type": "code",
   "execution_count": 93,
   "metadata": {},
   "outputs": [
    {
     "data": {
      "text/plain": [
       "LinearRegression()"
      ]
     },
     "execution_count": 93,
     "metadata": {},
     "output_type": "execute_result"
    }
   ],
   "source": [
    "from sklearn.linear_model import LinearRegression\n",
    "\n",
    "model = LinearRegression()\n",
    "model.fit(np.array(datesY).reshape(-1, 1), totalScoreX)"
   ]
  },
  {
   "cell_type": "code",
   "execution_count": 94,
   "metadata": {},
   "outputs": [
    {
     "data": {
      "text/plain": [
       "array([[7.93197503]])"
      ]
     },
     "execution_count": 94,
     "metadata": {},
     "output_type": "execute_result"
    }
   ],
   "source": [
    "yhat = model.predict([[29]]) #predict score for next day\n",
    "yhat"
   ]
  },
  {
   "cell_type": "code",
   "execution_count": 95,
   "metadata": {},
   "outputs": [
    {
     "data": {
      "text/html": [
       "<div>\n",
       "<style scoped>\n",
       "    .dataframe tbody tr th:only-of-type {\n",
       "        vertical-align: middle;\n",
       "    }\n",
       "\n",
       "    .dataframe tbody tr th {\n",
       "        vertical-align: top;\n",
       "    }\n",
       "\n",
       "    .dataframe thead th {\n",
       "        text-align: right;\n",
       "    }\n",
       "</style>\n",
       "<table border=\"1\" class=\"dataframe\">\n",
       "  <thead>\n",
       "    <tr style=\"text-align: right;\">\n",
       "      <th></th>\n",
       "      <th>totalScoreEma</th>\n",
       "      <th>dates</th>\n",
       "    </tr>\n",
       "    <tr>\n",
       "      <th>Date</th>\n",
       "      <th></th>\n",
       "      <th></th>\n",
       "    </tr>\n",
       "  </thead>\n",
       "  <tbody>\n",
       "    <tr>\n",
       "      <th>2021-12-01</th>\n",
       "      <td>3.430956</td>\n",
       "      <td>01</td>\n",
       "    </tr>\n",
       "    <tr>\n",
       "      <th>2021-12-02</th>\n",
       "      <td>3.953971</td>\n",
       "      <td>02</td>\n",
       "    </tr>\n",
       "    <tr>\n",
       "      <th>2021-12-03</th>\n",
       "      <td>4.302647</td>\n",
       "      <td>03</td>\n",
       "    </tr>\n",
       "    <tr>\n",
       "      <th>2021-12-06</th>\n",
       "      <td>4.535098</td>\n",
       "      <td>06</td>\n",
       "    </tr>\n",
       "    <tr>\n",
       "      <th>2021-12-07</th>\n",
       "      <td>4.690066</td>\n",
       "      <td>07</td>\n",
       "    </tr>\n",
       "    <tr>\n",
       "      <th>2021-12-08</th>\n",
       "      <td>3.126710</td>\n",
       "      <td>08</td>\n",
       "    </tr>\n",
       "    <tr>\n",
       "      <th>2021-12-09</th>\n",
       "      <td>2.084473</td>\n",
       "      <td>09</td>\n",
       "    </tr>\n",
       "    <tr>\n",
       "      <th>2021-12-10</th>\n",
       "      <td>3.056316</td>\n",
       "      <td>10</td>\n",
       "    </tr>\n",
       "    <tr>\n",
       "      <th>2021-12-13</th>\n",
       "      <td>3.704210</td>\n",
       "      <td>13</td>\n",
       "    </tr>\n",
       "    <tr>\n",
       "      <th>2021-12-14</th>\n",
       "      <td>5.802807</td>\n",
       "      <td>14</td>\n",
       "    </tr>\n",
       "    <tr>\n",
       "      <th>2021-12-15</th>\n",
       "      <td>7.201871</td>\n",
       "      <td>15</td>\n",
       "    </tr>\n",
       "    <tr>\n",
       "      <th>2021-12-16</th>\n",
       "      <td>8.134581</td>\n",
       "      <td>16</td>\n",
       "    </tr>\n",
       "    <tr>\n",
       "      <th>2021-12-17</th>\n",
       "      <td>7.089721</td>\n",
       "      <td>17</td>\n",
       "    </tr>\n",
       "    <tr>\n",
       "      <th>2021-12-20</th>\n",
       "      <td>6.393147</td>\n",
       "      <td>20</td>\n",
       "    </tr>\n",
       "    <tr>\n",
       "      <th>2021-12-21</th>\n",
       "      <td>5.928765</td>\n",
       "      <td>21</td>\n",
       "    </tr>\n",
       "    <tr>\n",
       "      <th>2021-12-22</th>\n",
       "      <td>5.619176</td>\n",
       "      <td>22</td>\n",
       "    </tr>\n",
       "    <tr>\n",
       "      <th>2021-12-23</th>\n",
       "      <td>7.079451</td>\n",
       "      <td>23</td>\n",
       "    </tr>\n",
       "    <tr>\n",
       "      <th>2021-12-24</th>\n",
       "      <td>6.386301</td>\n",
       "      <td>24</td>\n",
       "    </tr>\n",
       "    <tr>\n",
       "      <th>2021-12-27</th>\n",
       "      <td>7.590867</td>\n",
       "      <td>27</td>\n",
       "    </tr>\n",
       "    <tr>\n",
       "      <th>2021-12-28</th>\n",
       "      <td>8.393911</td>\n",
       "      <td>28</td>\n",
       "    </tr>\n",
       "  </tbody>\n",
       "</table>\n",
       "</div>"
      ],
      "text/plain": [
       "            totalScoreEma dates\n",
       "Date                           \n",
       "2021-12-01       3.430956    01\n",
       "2021-12-02       3.953971    02\n",
       "2021-12-03       4.302647    03\n",
       "2021-12-06       4.535098    06\n",
       "2021-12-07       4.690066    07\n",
       "2021-12-08       3.126710    08\n",
       "2021-12-09       2.084473    09\n",
       "2021-12-10       3.056316    10\n",
       "2021-12-13       3.704210    13\n",
       "2021-12-14       5.802807    14\n",
       "2021-12-15       7.201871    15\n",
       "2021-12-16       8.134581    16\n",
       "2021-12-17       7.089721    17\n",
       "2021-12-20       6.393147    20\n",
       "2021-12-21       5.928765    21\n",
       "2021-12-22       5.619176    22\n",
       "2021-12-23       7.079451    23\n",
       "2021-12-24       6.386301    24\n",
       "2021-12-27       7.590867    27\n",
       "2021-12-28       8.393911    28"
      ]
     },
     "execution_count": 95,
     "metadata": {},
     "output_type": "execute_result"
    }
   ],
   "source": [
    "data.iloc[:,-2:]"
   ]
  },
  {
   "cell_type": "code",
   "execution_count": 96,
   "metadata": {},
   "outputs": [
    {
     "data": {
      "text/plain": [
       "RandomForestRegressor(random_state=0)"
      ]
     },
     "execution_count": 96,
     "metadata": {},
     "output_type": "execute_result"
    }
   ],
   "source": [
    "from sklearn.ensemble import RandomForestRegressor\n",
    "\n",
    "# create regressor object\n",
    "regressor = RandomForestRegressor(n_estimators = 100, random_state = 0)\n",
    "\n",
    "# fit the regressor with x and y data\n",
    "# x =Open\tHigh\tLow\tClose\tVolume\n",
    "# y = 5EMA\t26EMA\trsi\tmacd\tmacdSignal\tmacdHist\n",
    "regressor.fit(np.asarray(data['totalScoreEma']).reshape(-1, 1),data['Close'])"
   ]
  },
  {
   "cell_type": "code",
   "execution_count": 98,
   "metadata": {},
   "outputs": [
    {
     "name": "stderr",
     "output_type": "stream",
     "text": [
      "C:\\Users\\HP\\AppData\\Local\\Programs\\Python\\Python38-32\\lib\\site-packages\\seaborn\\_decorators.py:36: FutureWarning: Pass the following variables as keyword args: x, y. From version 0.12, the only valid positional argument will be `data`, and passing other arguments without an explicit keyword will result in an error or misinterpretation.\n",
      "  warnings.warn(\n"
     ]
    },
    {
     "data": {
      "image/png": "[encoded data removed]",
      "text/plain": [
       "<Figure size 432x288 with 1 Axes>"
      ]
     },
     "metadata": {
      "needs_background": "light"
     },
     "output_type": "display_data"
    }
   ],
   "source": [
    "import seaborn as sns\n",
    "sns.regplot(data['totalScoreEma'], data['Close'])\n",
    "plt.show()"
   ]
  },
  {
   "cell_type": "code",
   "execution_count": 101,
   "metadata": {},
   "outputs": [
    {
     "name": "stdout",
     "output_type": "stream",
     "text": [
      "64.89804844443148\n",
      "1806.0999755859373\n"
     ]
    },
    {
     "data": {
      "text/plain": [
       "array([1678.30901733])"
      ]
     },
     "execution_count": 101,
     "metadata": {},
     "output_type": "execute_result"
    }
   ],
   "source": [
    "print(data.Close.std())\n",
    "print(data.Close.values[-1])\n",
    "regressor.predict(yhat)#predict close"
   ]
  },
  {
   "cell_type": "code",
   "execution_count": null,
   "metadata": {},
   "outputs": [],
   "source": []
  }
 ],
 "metadata": {
  "interpreter": {
   "hash": "4af90f45c7792a747df031fcfb3e75fbadd5ecde1f96328d33556550aaa66aac"
  },
  "kernelspec": {
   "display_name": "Python 3.8.5 32-bit",
   "language": "python",
   "name": "python3"
  },
  "language_info": {
   "codemirror_mode": {
    "name": "ipython",
    "version": 3
   },
   "file_extension": ".py",
   "mimetype": "text/x-python",
   "name": "python",
   "nbconvert_exporter": "python",
   "pygments_lexer": "ipython3",
   "version": "3.8.5"
  },
  "orig_nbformat": 4
 },
 "nbformat": 4,
 "nbformat_minor": 2
}
