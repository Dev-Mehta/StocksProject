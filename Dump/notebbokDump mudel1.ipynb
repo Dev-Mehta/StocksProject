{
 "cells": [
  {
   "cell_type": "code",
   "execution_count": 1,
   "metadata": {
    "colab": {
     "base_uri": "https://localhost:8080/"
    },
    "id": "AviqhkRagxRT",
    "outputId": "db7b9b99-2aa3-492f-c4ed-efca60942fda"
   },
   "outputs": [],
   "source": [
    "# !wget -q http://prdownloads.sourceforge.net/ta-lib/ta-lib-0.4.0-src.tar.gz 2>&1 > /dev/null\n",
    "# !tar xvzf ta-lib-0.4.0-src.tar.gz 2>&1 > /dev/null\n",
    "\n",
    "# import os\n",
    "\n",
    "# os.chdir('ta-lib') # Can't use !cd in co-lab\n",
    "\n",
    "# !./configure --prefix=/usr 2>&1 > /dev/null\n",
    "# !make 2>&1 > /dev/null\n",
    "# !make install 2>&1 > /dev/null\n",
    "\n",
    "# os.chdir('../')\n",
    "\n",
    "# !pip install TA-Lib 2>&1 > /dev/null"
   ]
  },
  {
   "cell_type": "code",
   "execution_count": null,
   "metadata": {},
   "outputs": [],
   "source": []
  },
  {
   "cell_type": "code",
   "execution_count": null,
   "metadata": {
    "id": "kQ9BYRgljhUc"
   },
   "outputs": [],
   "source": []
  },
  {
   "cell_type": "code",
   "execution_count": 2,
   "metadata": {
    "colab": {
     "base_uri": "https://localhost:8080/"
    },
    "id": "AahSw8o5h-2x",
    "outputId": "330b58d1-081a-4c45-9716-1d98576a79a5"
   },
   "outputs": [],
   "source": [
    "# !pip install yfinance"
   ]
  },
  {
   "cell_type": "code",
   "execution_count": 436,
   "metadata": {
    "id": "GG-QuPF4g_ag"
   },
   "outputs": [],
   "source": [
    "from pandas.core.frame import DataFrame\n",
    "import yfinance as yf\n",
    "import numpy as np\n",
    "import talib as ta\n",
    "import pandas as pd"
   ]
  },
  {
   "cell_type": "code",
   "execution_count": 437,
   "metadata": {
    "id": "7DpQfJgRjSNb"
   },
   "outputs": [],
   "source": [
    "def get_score(df: DataFrame, indicator: str, entry_type='long'):\n",
    "\tindicator = indicator.upper()\n",
    " \n",
    "\tif indicator == 'RSI' and entry_type == 'long':\n",
    "\t\ttry:\n",
    "\t\t\trsiValue = df.rsi.head(1).values[0]\n",
    "\t\t\tif rsiValue in range(60,70):\n",
    "\t\t\t\treturn 5\n",
    "\t\t\telif rsiValue in range(70,80):\n",
    "\t\t\t\treturn 4\n",
    "\t\t\telif rsiValue >= 80:\n",
    "\t\t\t\treturn 3\n",
    "\t\t\telif rsiValue in range(50,60):\n",
    "\t\t\t\treturn 2\n",
    "\t\t\telse:\n",
    "\t\t\t\treturn 0\n",
    "\t\texcept IndexError:\n",
    "\t\t\treturn 0\n",
    "\tif indicator == 'MACD' and entry_type == 'long':\n",
    "\t\tmacd = df.macd_crossover\n",
    "\t\ttry:\n",
    "\t\t\tdate = macd.iloc[list(np.where(df[\"macd_crossover\"] == 1)[0])].index.values[0]\n",
    "\t\t\tdate = pd.to_datetime(date)\n",
    "\t\t\tdates = df.index.values\n",
    "\t\t\tfor i in range(0,len(dates)):\n",
    "\t\t\t\tif pd.to_datetime(dates[i]).date() == date:\n",
    "\t\t\t\t\treturn 5 - i\n",
    "\t\t\treturn 0\n",
    "\t\texcept IndexError:\n",
    "\t\t\treturn 0\n",
    "\tif indicator == 'EMA' and entry_type == 'long':\n",
    "\t\ttry:\n",
    "\t\t\tdate = df.ema_crossover.iloc[list(np.where(df[\"ema_crossover\"] == 1)[0])].index.values[0]\n",
    "\t\t\tdate = pd.to_datetime(date)\n",
    "\t\t\tdates = df.index.values\n",
    "\t\t\tfor i in range(0,len(dates)):\n",
    "\t\t\t\tif pd.to_datetime(dates[i]).date() == date:\n",
    "\t\t\t\t\treturn 5 - i\n",
    "\t\t\treturn 0\n",
    "\t\texcept IndexError:\n",
    "\t\t\treturn 0\n",
    "\tif indicator == 'VOLUME' and entry_type == 'long':\n",
    "\t\ttry:\n",
    "\t\t\tdate = df.volume_buy.iloc[list(np.where(df[\"volume_buy\"] == 1)[0])].index.values[0]\n",
    "\t\t\tdate = pd.to_datetime(date)\n",
    "\t\t\tdates = df.index.values\n",
    "\t\t\tfor i in range(0,len(dates)):\n",
    "\t\t\t\tif pd.to_datetime(dates[i]).date() == date:\n",
    "\t\t\t\t\treturn 5 - i\n",
    "\t\t\treturn 0\n",
    "\t\texcept IndexError:\n",
    "\t\t\treturn 0\n",
    "\treturn None"
   ]
  },
  {
   "cell_type": "code",
   "execution_count": 438,
   "metadata": {
    "colab": {
     "base_uri": "https://localhost:8080/",
     "height": 236
    },
    "id": "ScKy1rW9hCNN",
    "outputId": "bc9e51a5-c3a2-4d2b-9cf4-155db49eb725"
   },
   "outputs": [
    {
     "data": {
      "text/html": [
       "<div>\n",
       "<style scoped>\n",
       "    .dataframe tbody tr th:only-of-type {\n",
       "        vertical-align: middle;\n",
       "    }\n",
       "\n",
       "    .dataframe tbody tr th {\n",
       "        vertical-align: top;\n",
       "    }\n",
       "\n",
       "    .dataframe thead th {\n",
       "        text-align: right;\n",
       "    }\n",
       "</style>\n",
       "<table border=\"1\" class=\"dataframe\">\n",
       "  <thead>\n",
       "    <tr style=\"text-align: right;\">\n",
       "      <th></th>\n",
       "      <th>Open</th>\n",
       "      <th>High</th>\n",
       "      <th>Low</th>\n",
       "      <th>Close</th>\n",
       "      <th>Adj Close</th>\n",
       "      <th>Volume</th>\n",
       "    </tr>\n",
       "    <tr>\n",
       "      <th>Date</th>\n",
       "      <th></th>\n",
       "      <th></th>\n",
       "      <th></th>\n",
       "      <th></th>\n",
       "      <th></th>\n",
       "      <th></th>\n",
       "    </tr>\n",
       "  </thead>\n",
       "  <tbody>\n",
       "    <tr>\n",
       "      <th>2020-08-21</th>\n",
       "      <td>963.049988</td>\n",
       "      <td>963.450012</td>\n",
       "      <td>946.549988</td>\n",
       "      <td>948.799988</td>\n",
       "      <td>928.694214</td>\n",
       "      <td>6513773</td>\n",
       "    </tr>\n",
       "    <tr>\n",
       "      <th>2020-08-24</th>\n",
       "      <td>947.000000</td>\n",
       "      <td>952.000000</td>\n",
       "      <td>939.200012</td>\n",
       "      <td>947.400024</td>\n",
       "      <td>927.323975</td>\n",
       "      <td>5798574</td>\n",
       "    </tr>\n",
       "    <tr>\n",
       "      <th>2020-08-25</th>\n",
       "      <td>947.500000</td>\n",
       "      <td>948.650024</td>\n",
       "      <td>933.599976</td>\n",
       "      <td>938.099976</td>\n",
       "      <td>918.220947</td>\n",
       "      <td>6233918</td>\n",
       "    </tr>\n",
       "    <tr>\n",
       "      <th>2020-08-26</th>\n",
       "      <td>941.250000</td>\n",
       "      <td>954.250000</td>\n",
       "      <td>938.400024</td>\n",
       "      <td>950.799988</td>\n",
       "      <td>930.651855</td>\n",
       "      <td>5153601</td>\n",
       "    </tr>\n",
       "    <tr>\n",
       "      <th>2020-08-27</th>\n",
       "      <td>960.000000</td>\n",
       "      <td>960.950012</td>\n",
       "      <td>945.200012</td>\n",
       "      <td>947.049988</td>\n",
       "      <td>926.981323</td>\n",
       "      <td>6154280</td>\n",
       "    </tr>\n",
       "  </tbody>\n",
       "</table>\n",
       "</div>"
      ],
      "text/plain": [
       "                  Open        High         Low       Close   Adj Close  \\\n",
       "Date                                                                     \n",
       "2020-08-21  963.049988  963.450012  946.549988  948.799988  928.694214   \n",
       "2020-08-24  947.000000  952.000000  939.200012  947.400024  927.323975   \n",
       "2020-08-25  947.500000  948.650024  933.599976  938.099976  918.220947   \n",
       "2020-08-26  941.250000  954.250000  938.400024  950.799988  930.651855   \n",
       "2020-08-27  960.000000  960.950012  945.200012  947.049988  926.981323   \n",
       "\n",
       "             Volume  \n",
       "Date                 \n",
       "2020-08-21  6513773  \n",
       "2020-08-24  5798574  \n",
       "2020-08-25  6233918  \n",
       "2020-08-26  5153601  \n",
       "2020-08-27  6154280  "
      ]
     },
     "execution_count": 438,
     "metadata": {},
     "output_type": "execute_result"
    }
   ],
   "source": [
    "data = pd.read_csv('INFY.csv')\n",
    "data.set_index('Date', inplace=True)\n",
    "data.head()"
   ]
  },
  {
   "cell_type": "code",
   "execution_count": 439,
   "metadata": {},
   "outputs": [],
   "source": [
    "span = 4"
   ]
  },
  {
   "cell_type": "code",
   "execution_count": 440,
   "metadata": {
    "colab": {
     "base_uri": "https://localhost:8080/",
     "height": 36
    },
    "id": "tiPUNVWqox9r",
    "outputId": "cf366a72-df2b-4fc2-d693-c1b2b62b74b2"
   },
   "outputs": [],
   "source": [
    "data = data.tail(span+5)"
   ]
  },
  {
   "cell_type": "code",
   "execution_count": 441,
   "metadata": {
    "colab": {
     "base_uri": "https://localhost:8080/"
    },
    "id": "KFe-7sHCnFp3",
    "outputId": "99b8ad14-4cb6-4229-b735-e3312dbf5844"
   },
   "outputs": [],
   "source": [
    "#data = DataFrame(yf.download('BTC-USD','2016-01-01',current_date))"
   ]
  },
  {
   "cell_type": "code",
   "execution_count": 442,
   "metadata": {
    "id": "nadQNv8xnuUZ"
   },
   "outputs": [],
   "source": [
    "data = data.drop(['Adj Close'], axis = 1)"
   ]
  },
  {
   "cell_type": "code",
   "execution_count": 443,
   "metadata": {
    "id": "ipkIp54VjhQg",
    "scrolled": true
   },
   "outputs": [
    {
     "name": "stderr",
     "output_type": "stream",
     "text": [
      "/tmp/ipykernel_3063/3700509915.py:48: FutureWarning: Comparison of Timestamp with datetime.date is deprecated in order to match the standard library behavior.  In a future version these will be considered non-comparable.Use 'ts == pd.Timestamp(date)' or 'ts.date() == date' instead.\n",
      "  if pd.to_datetime(dates[i]).date() == date:\n"
     ]
    }
   ],
   "source": [
    "data['5EMA'] = pd.Series.ewm(data['Close'], span=5).mean()\n",
    "\n",
    "data['26EMA'] = pd.Series.ewm(data['Close'], span=26).mean()\n",
    "\n",
    "data['rsi'] = ta.RSI(data['Close'].values, timeperiod=14)\n",
    "\n",
    "data['macd'], data['macdSignal'], data['macdHist'] = ta.MACD(data.Close.values, fastperiod=12, slowperiod=26, signalperiod=9)\n",
    "\n",
    "data['macd_crossover'] = np.where(((data.macd > data.macdSignal) & (data.macd.shift(1) < data.macdSignal.shift(1))), 1, 0)\n",
    "data['macd_crossunder'] = np.where(((data.macd < data.macdSignal) & (data.macd.shift(1) > data.macdSignal.shift(1))), 1, 0)\n",
    "data['ema_crossover'] = np.where(((data['5EMA'].shift(1) <= data['26EMA'].shift(1)) & (data['5EMA'] > data['26EMA'] )), 1, 0)\n",
    "data['ema_crossunder'] = np.where(((data['5EMA'].shift(1) >= data['26EMA'].shift(1)) & (data['5EMA'] < data['26EMA'] )), 1, 0)\n",
    "\n",
    "data['rsi_buy'] = np.where(data.rsi > 60, 1, 0)\n",
    "data['rsi_sell'] = np.where(data.rsi < 40, 1, 0)\n",
    "\n",
    "data['volume_buy'] = np.where((data.Volume > data.Volume.ewm(span=5).mean()) & (data.Close > data.Close.shift(1)), 1, 0)\n",
    "data['volume_sell'] = np.where((data.Volume > data.Volume.ewm(span=5).mean()) & (data.Close < data.Close.shift(1)), 1, 0)\n",
    "\n",
    "last_week_data = data.tail(5).sort_values(by='Date', ascending=False)\n",
    "rsiScore = get_score(last_week_data, indicator='rsi')\n",
    "macdScore = get_score(last_week_data, indicator='macd')\n",
    "emaScore = get_score(last_week_data, indicator='ema')\n",
    "volumeScore = get_score(last_week_data, indicator='volume')\n",
    "totalScore = rsiScore + macdScore + emaScore + volumeScore"
   ]
  },
  {
   "cell_type": "code",
   "execution_count": 444,
   "metadata": {
    "colab": {
     "base_uri": "https://localhost:8080/"
    },
    "id": "sjKxO0PijdZO",
    "outputId": "b1ffad48-dec9-4f96-be00-c0c9186c8128"
   },
   "outputs": [
    {
     "name": "stderr",
     "output_type": "stream",
     "text": [
      "/tmp/ipykernel_3063/3700509915.py:37: FutureWarning: Comparison of Timestamp with datetime.date is deprecated in order to match the standard library behavior.  In a future version these will be considered non-comparable.Use 'ts == pd.Timestamp(date)' or 'ts.date() == date' instead.\n",
      "  if pd.to_datetime(dates[i]).date() == date:\n",
      "/tmp/ipykernel_3063/3700509915.py:48: FutureWarning: Comparison of Timestamp with datetime.date is deprecated in order to match the standard library behavior.  In a future version these will be considered non-comparable.Use 'ts == pd.Timestamp(date)' or 'ts.date() == date' instead.\n",
      "  if pd.to_datetime(dates[i]).date() == date:\n"
     ]
    },
    {
     "data": {
      "text/plain": [
       "9"
      ]
     },
     "execution_count": 444,
     "metadata": {},
     "output_type": "execute_result"
    }
   ],
   "source": [
    "totalScoreL = [0,0,0,0,0]\n",
    "for i in range(len(data.index.values)-5):\n",
    "\tdf = data[i:i+5]\n",
    "\trsiScore = get_score(df, indicator='rsi')\n",
    "\tmacdScore = get_score(df, indicator='macd')\n",
    "\temaScore = get_score(df, indicator='ema')\n",
    "\tvolumeScore = get_score(df, indicator='volume')\n",
    "\ttotalScore = rsiScore + macdScore + emaScore + volumeScore\n",
    "\ttotalScoreL.append(totalScore)\n",
    "len(totalScoreL)"
   ]
  },
  {
   "cell_type": "code",
   "execution_count": 445,
   "metadata": {},
   "outputs": [
    {
     "name": "stdout",
     "output_type": "stream",
     "text": [
      "9\n"
     ]
    },
    {
     "data": {
      "text/html": [
       "<div>\n",
       "<style scoped>\n",
       "    .dataframe tbody tr th:only-of-type {\n",
       "        vertical-align: middle;\n",
       "    }\n",
       "\n",
       "    .dataframe tbody tr th {\n",
       "        vertical-align: top;\n",
       "    }\n",
       "\n",
       "    .dataframe thead th {\n",
       "        text-align: right;\n",
       "    }\n",
       "</style>\n",
       "<table border=\"1\" class=\"dataframe\">\n",
       "  <thead>\n",
       "    <tr style=\"text-align: right;\">\n",
       "      <th></th>\n",
       "      <th>Open</th>\n",
       "      <th>High</th>\n",
       "      <th>Low</th>\n",
       "      <th>Close</th>\n",
       "      <th>Volume</th>\n",
       "      <th>5EMA</th>\n",
       "      <th>26EMA</th>\n",
       "      <th>rsi</th>\n",
       "      <th>macd</th>\n",
       "      <th>macdSignal</th>\n",
       "      <th>macdHist</th>\n",
       "      <th>macd_crossover</th>\n",
       "      <th>macd_crossunder</th>\n",
       "      <th>ema_crossover</th>\n",
       "      <th>ema_crossunder</th>\n",
       "      <th>rsi_buy</th>\n",
       "      <th>rsi_sell</th>\n",
       "      <th>volume_buy</th>\n",
       "      <th>volume_sell</th>\n",
       "    </tr>\n",
       "    <tr>\n",
       "      <th>Date</th>\n",
       "      <th></th>\n",
       "      <th></th>\n",
       "      <th></th>\n",
       "      <th></th>\n",
       "      <th></th>\n",
       "      <th></th>\n",
       "      <th></th>\n",
       "      <th></th>\n",
       "      <th></th>\n",
       "      <th></th>\n",
       "      <th></th>\n",
       "      <th></th>\n",
       "      <th></th>\n",
       "      <th></th>\n",
       "      <th></th>\n",
       "      <th></th>\n",
       "      <th></th>\n",
       "      <th></th>\n",
       "      <th></th>\n",
       "    </tr>\n",
       "  </thead>\n",
       "  <tbody>\n",
       "    <tr>\n",
       "      <th>2021-08-06</th>\n",
       "      <td>1657.000000</td>\n",
       "      <td>1660.650024</td>\n",
       "      <td>1644.000000</td>\n",
       "      <td>1650.199951</td>\n",
       "      <td>3754855</td>\n",
       "      <td>1650.199951</td>\n",
       "      <td>1650.199951</td>\n",
       "      <td>NaN</td>\n",
       "      <td>NaN</td>\n",
       "      <td>NaN</td>\n",
       "      <td>NaN</td>\n",
       "      <td>0</td>\n",
       "      <td>0</td>\n",
       "      <td>0</td>\n",
       "      <td>0</td>\n",
       "      <td>0</td>\n",
       "      <td>0</td>\n",
       "      <td>0</td>\n",
       "      <td>0</td>\n",
       "    </tr>\n",
       "    <tr>\n",
       "      <th>2021-08-09</th>\n",
       "      <td>1661.000000</td>\n",
       "      <td>1667.449951</td>\n",
       "      <td>1646.400024</td>\n",
       "      <td>1663.300049</td>\n",
       "      <td>5018477</td>\n",
       "      <td>1658.060010</td>\n",
       "      <td>1657.001925</td>\n",
       "      <td>NaN</td>\n",
       "      <td>NaN</td>\n",
       "      <td>NaN</td>\n",
       "      <td>NaN</td>\n",
       "      <td>0</td>\n",
       "      <td>0</td>\n",
       "      <td>1</td>\n",
       "      <td>0</td>\n",
       "      <td>0</td>\n",
       "      <td>0</td>\n",
       "      <td>1</td>\n",
       "      <td>0</td>\n",
       "    </tr>\n",
       "    <tr>\n",
       "      <th>2021-08-10</th>\n",
       "      <td>1668.000000</td>\n",
       "      <td>1680.000000</td>\n",
       "      <td>1661.050049</td>\n",
       "      <td>1677.250000</td>\n",
       "      <td>6846517</td>\n",
       "      <td>1667.150005</td>\n",
       "      <td>1664.276862</td>\n",
       "      <td>NaN</td>\n",
       "      <td>NaN</td>\n",
       "      <td>NaN</td>\n",
       "      <td>NaN</td>\n",
       "      <td>0</td>\n",
       "      <td>0</td>\n",
       "      <td>0</td>\n",
       "      <td>0</td>\n",
       "      <td>0</td>\n",
       "      <td>0</td>\n",
       "      <td>1</td>\n",
       "      <td>0</td>\n",
       "    </tr>\n",
       "    <tr>\n",
       "      <th>2021-08-11</th>\n",
       "      <td>1674.800049</td>\n",
       "      <td>1684.000000</td>\n",
       "      <td>1668.000000</td>\n",
       "      <td>1677.550049</td>\n",
       "      <td>4899639</td>\n",
       "      <td>1671.470023</td>\n",
       "      <td>1667.987465</td>\n",
       "      <td>NaN</td>\n",
       "      <td>NaN</td>\n",
       "      <td>NaN</td>\n",
       "      <td>NaN</td>\n",
       "      <td>0</td>\n",
       "      <td>0</td>\n",
       "      <td>0</td>\n",
       "      <td>0</td>\n",
       "      <td>0</td>\n",
       "      <td>0</td>\n",
       "      <td>0</td>\n",
       "      <td>0</td>\n",
       "    </tr>\n",
       "    <tr>\n",
       "      <th>2021-08-12</th>\n",
       "      <td>1679.150024</td>\n",
       "      <td>1696.500000</td>\n",
       "      <td>1674.000000</td>\n",
       "      <td>1689.599976</td>\n",
       "      <td>5659579</td>\n",
       "      <td>1678.429863</td>\n",
       "      <td>1672.999495</td>\n",
       "      <td>NaN</td>\n",
       "      <td>NaN</td>\n",
       "      <td>NaN</td>\n",
       "      <td>NaN</td>\n",
       "      <td>0</td>\n",
       "      <td>0</td>\n",
       "      <td>0</td>\n",
       "      <td>0</td>\n",
       "      <td>0</td>\n",
       "      <td>0</td>\n",
       "      <td>1</td>\n",
       "      <td>0</td>\n",
       "    </tr>\n",
       "    <tr>\n",
       "      <th>2021-08-13</th>\n",
       "      <td>1697.000000</td>\n",
       "      <td>1722.500000</td>\n",
       "      <td>1691.300049</td>\n",
       "      <td>1712.199951</td>\n",
       "      <td>5612790</td>\n",
       "      <td>1690.769910</td>\n",
       "      <td>1680.851034</td>\n",
       "      <td>NaN</td>\n",
       "      <td>NaN</td>\n",
       "      <td>NaN</td>\n",
       "      <td>NaN</td>\n",
       "      <td>0</td>\n",
       "      <td>0</td>\n",
       "      <td>0</td>\n",
       "      <td>0</td>\n",
       "      <td>0</td>\n",
       "      <td>0</td>\n",
       "      <td>1</td>\n",
       "      <td>0</td>\n",
       "    </tr>\n",
       "    <tr>\n",
       "      <th>2021-08-16</th>\n",
       "      <td>1707.699951</td>\n",
       "      <td>1719.949951</td>\n",
       "      <td>1690.099976</td>\n",
       "      <td>1704.400024</td>\n",
       "      <td>4564109</td>\n",
       "      <td>1695.595725</td>\n",
       "      <td>1685.039100</td>\n",
       "      <td>NaN</td>\n",
       "      <td>NaN</td>\n",
       "      <td>NaN</td>\n",
       "      <td>NaN</td>\n",
       "      <td>0</td>\n",
       "      <td>0</td>\n",
       "      <td>0</td>\n",
       "      <td>0</td>\n",
       "      <td>0</td>\n",
       "      <td>0</td>\n",
       "      <td>0</td>\n",
       "      <td>0</td>\n",
       "    </tr>\n",
       "    <tr>\n",
       "      <th>2021-08-17</th>\n",
       "      <td>1703.900024</td>\n",
       "      <td>1748.900024</td>\n",
       "      <td>1686.550049</td>\n",
       "      <td>1741.650024</td>\n",
       "      <td>9510390</td>\n",
       "      <td>1711.570468</td>\n",
       "      <td>1694.160522</td>\n",
       "      <td>NaN</td>\n",
       "      <td>NaN</td>\n",
       "      <td>NaN</td>\n",
       "      <td>NaN</td>\n",
       "      <td>0</td>\n",
       "      <td>0</td>\n",
       "      <td>0</td>\n",
       "      <td>0</td>\n",
       "      <td>0</td>\n",
       "      <td>0</td>\n",
       "      <td>1</td>\n",
       "      <td>0</td>\n",
       "    </tr>\n",
       "    <tr>\n",
       "      <th>2021-08-18</th>\n",
       "      <td>1729.000000</td>\n",
       "      <td>1755.500000</td>\n",
       "      <td>1727.000000</td>\n",
       "      <td>1733.449951</td>\n",
       "      <td>6686090</td>\n",
       "      <td>1719.058407</td>\n",
       "      <td>1699.984078</td>\n",
       "      <td>NaN</td>\n",
       "      <td>NaN</td>\n",
       "      <td>NaN</td>\n",
       "      <td>NaN</td>\n",
       "      <td>0</td>\n",
       "      <td>0</td>\n",
       "      <td>0</td>\n",
       "      <td>0</td>\n",
       "      <td>0</td>\n",
       "      <td>0</td>\n",
       "      <td>0</td>\n",
       "      <td>1</td>\n",
       "    </tr>\n",
       "  </tbody>\n",
       "</table>\n",
       "</div>"
      ],
      "text/plain": [
       "                   Open         High          Low        Close   Volume  \\\n",
       "Date                                                                      \n",
       "2021-08-06  1657.000000  1660.650024  1644.000000  1650.199951  3754855   \n",
       "2021-08-09  1661.000000  1667.449951  1646.400024  1663.300049  5018477   \n",
       "2021-08-10  1668.000000  1680.000000  1661.050049  1677.250000  6846517   \n",
       "2021-08-11  1674.800049  1684.000000  1668.000000  1677.550049  4899639   \n",
       "2021-08-12  1679.150024  1696.500000  1674.000000  1689.599976  5659579   \n",
       "2021-08-13  1697.000000  1722.500000  1691.300049  1712.199951  5612790   \n",
       "2021-08-16  1707.699951  1719.949951  1690.099976  1704.400024  4564109   \n",
       "2021-08-17  1703.900024  1748.900024  1686.550049  1741.650024  9510390   \n",
       "2021-08-18  1729.000000  1755.500000  1727.000000  1733.449951  6686090   \n",
       "\n",
       "                   5EMA        26EMA  rsi  macd  macdSignal  macdHist  \\\n",
       "Date                                                                    \n",
       "2021-08-06  1650.199951  1650.199951  NaN   NaN         NaN       NaN   \n",
       "2021-08-09  1658.060010  1657.001925  NaN   NaN         NaN       NaN   \n",
       "2021-08-10  1667.150005  1664.276862  NaN   NaN         NaN       NaN   \n",
       "2021-08-11  1671.470023  1667.987465  NaN   NaN         NaN       NaN   \n",
       "2021-08-12  1678.429863  1672.999495  NaN   NaN         NaN       NaN   \n",
       "2021-08-13  1690.769910  1680.851034  NaN   NaN         NaN       NaN   \n",
       "2021-08-16  1695.595725  1685.039100  NaN   NaN         NaN       NaN   \n",
       "2021-08-17  1711.570468  1694.160522  NaN   NaN         NaN       NaN   \n",
       "2021-08-18  1719.058407  1699.984078  NaN   NaN         NaN       NaN   \n",
       "\n",
       "            macd_crossover  macd_crossunder  ema_crossover  ema_crossunder  \\\n",
       "Date                                                                         \n",
       "2021-08-06               0                0              0               0   \n",
       "2021-08-09               0                0              1               0   \n",
       "2021-08-10               0                0              0               0   \n",
       "2021-08-11               0                0              0               0   \n",
       "2021-08-12               0                0              0               0   \n",
       "2021-08-13               0                0              0               0   \n",
       "2021-08-16               0                0              0               0   \n",
       "2021-08-17               0                0              0               0   \n",
       "2021-08-18               0                0              0               0   \n",
       "\n",
       "            rsi_buy  rsi_sell  volume_buy  volume_sell  \n",
       "Date                                                    \n",
       "2021-08-06        0         0           0            0  \n",
       "2021-08-09        0         0           1            0  \n",
       "2021-08-10        0         0           1            0  \n",
       "2021-08-11        0         0           0            0  \n",
       "2021-08-12        0         0           1            0  \n",
       "2021-08-13        0         0           1            0  \n",
       "2021-08-16        0         0           0            0  \n",
       "2021-08-17        0         0           1            0  \n",
       "2021-08-18        0         0           0            1  "
      ]
     },
     "execution_count": 445,
     "metadata": {},
     "output_type": "execute_result"
    }
   ],
   "source": [
    "print(len(data))\n",
    "data"
   ]
  },
  {
   "cell_type": "code",
   "execution_count": 446,
   "metadata": {},
   "outputs": [],
   "source": [
    "data = data.iloc[5:,:]"
   ]
  },
  {
   "cell_type": "code",
   "execution_count": 447,
   "metadata": {},
   "outputs": [
    {
     "name": "stderr",
     "output_type": "stream",
     "text": [
      "/tmp/ipykernel_3063/2006868685.py:1: SettingWithCopyWarning: \n",
      "A value is trying to be set on a copy of a slice from a DataFrame.\n",
      "Try using .loc[row_indexer,col_indexer] = value instead\n",
      "\n",
      "See the caveats in the documentation: https://pandas.pydata.org/pandas-docs/stable/user_guide/indexing.html#returning-a-view-versus-a-copy\n",
      "  data['totalScore'] = totalScoreL[5:]\n",
      "/tmp/ipykernel_3063/2006868685.py:2: SettingWithCopyWarning: \n",
      "A value is trying to be set on a copy of a slice from a DataFrame.\n",
      "Try using .loc[row_indexer,col_indexer] = value instead\n",
      "\n",
      "See the caveats in the documentation: https://pandas.pydata.org/pandas-docs/stable/user_guide/indexing.html#returning-a-view-versus-a-copy\n",
      "  data['totalScore last'] = data.totalScore.ewm(span=span).mean()\n"
     ]
    }
   ],
   "source": [
    "data['totalScore'] = totalScoreL[5:]\n",
    "data['totalScore last'] = data.totalScore.ewm(span=span).mean()"
   ]
  },
  {
   "cell_type": "code",
   "execution_count": 448,
   "metadata": {},
   "outputs": [
    {
     "data": {
      "image/png": "[encoded data removed]",
      "text/plain": [
       "<Figure size 1920x600 with 1 Axes>"
      ]
     },
     "metadata": {
      "needs_background": "light"
     },
     "output_type": "display_data"
    }
   ],
   "source": [
    "import matplotlib.pyplot as plt\n",
    "def draw_ts_plot(timeseries, xlabel ='Date', ylabel ='totalScore', title =\"\", dpi=120):\n",
    "    plt.figure(figsize=(16,5),dpi=dpi)\n",
    "    plt.plot(timeseries, color='red')\n",
    "    plt.gca().set(title=title, xlabel=xlabel, ylabel=ylabel)\n",
    "    plt.show()\n",
    "\n",
    "draw_ts_plot(data, xlabel=\"Date\", ylabel = \"score\", title=\"all time sore count\")"
   ]
  },
  {
   "cell_type": "code",
   "execution_count": 449,
   "metadata": {},
   "outputs": [
    {
     "data": {
      "text/plain": [
       "4"
      ]
     },
     "execution_count": 449,
     "metadata": {},
     "output_type": "execute_result"
    }
   ],
   "source": [
    "len(data)"
   ]
  },
  {
   "cell_type": "code",
   "execution_count": 450,
   "metadata": {},
   "outputs": [
    {
     "data": {
      "text/html": [
       "<div>\n",
       "<style scoped>\n",
       "    .dataframe tbody tr th:only-of-type {\n",
       "        vertical-align: middle;\n",
       "    }\n",
       "\n",
       "    .dataframe tbody tr th {\n",
       "        vertical-align: top;\n",
       "    }\n",
       "\n",
       "    .dataframe thead th {\n",
       "        text-align: right;\n",
       "    }\n",
       "</style>\n",
       "<table border=\"1\" class=\"dataframe\">\n",
       "  <thead>\n",
       "    <tr style=\"text-align: right;\">\n",
       "      <th></th>\n",
       "      <th>Open</th>\n",
       "      <th>High</th>\n",
       "      <th>Low</th>\n",
       "      <th>Close</th>\n",
       "      <th>Volume</th>\n",
       "      <th>5EMA</th>\n",
       "      <th>26EMA</th>\n",
       "      <th>rsi</th>\n",
       "      <th>macd</th>\n",
       "      <th>macdSignal</th>\n",
       "      <th>...</th>\n",
       "      <th>macd_crossover</th>\n",
       "      <th>macd_crossunder</th>\n",
       "      <th>ema_crossover</th>\n",
       "      <th>ema_crossunder</th>\n",
       "      <th>rsi_buy</th>\n",
       "      <th>rsi_sell</th>\n",
       "      <th>volume_buy</th>\n",
       "      <th>volume_sell</th>\n",
       "      <th>totalScore</th>\n",
       "      <th>totalScore last</th>\n",
       "    </tr>\n",
       "    <tr>\n",
       "      <th>Date</th>\n",
       "      <th></th>\n",
       "      <th></th>\n",
       "      <th></th>\n",
       "      <th></th>\n",
       "      <th></th>\n",
       "      <th></th>\n",
       "      <th></th>\n",
       "      <th></th>\n",
       "      <th></th>\n",
       "      <th></th>\n",
       "      <th></th>\n",
       "      <th></th>\n",
       "      <th></th>\n",
       "      <th></th>\n",
       "      <th></th>\n",
       "      <th></th>\n",
       "      <th></th>\n",
       "      <th></th>\n",
       "      <th></th>\n",
       "      <th></th>\n",
       "      <th></th>\n",
       "    </tr>\n",
       "  </thead>\n",
       "  <tbody>\n",
       "    <tr>\n",
       "      <th>2021-08-13</th>\n",
       "      <td>1697.000000</td>\n",
       "      <td>1722.500000</td>\n",
       "      <td>1691.300049</td>\n",
       "      <td>1712.199951</td>\n",
       "      <td>5612790</td>\n",
       "      <td>1690.769910</td>\n",
       "      <td>1680.851034</td>\n",
       "      <td>NaN</td>\n",
       "      <td>NaN</td>\n",
       "      <td>NaN</td>\n",
       "      <td>...</td>\n",
       "      <td>0</td>\n",
       "      <td>0</td>\n",
       "      <td>0</td>\n",
       "      <td>0</td>\n",
       "      <td>0</td>\n",
       "      <td>0</td>\n",
       "      <td>1</td>\n",
       "      <td>0</td>\n",
       "      <td>8</td>\n",
       "      <td>8.000000</td>\n",
       "    </tr>\n",
       "    <tr>\n",
       "      <th>2021-08-16</th>\n",
       "      <td>1707.699951</td>\n",
       "      <td>1719.949951</td>\n",
       "      <td>1690.099976</td>\n",
       "      <td>1704.400024</td>\n",
       "      <td>4564109</td>\n",
       "      <td>1695.595725</td>\n",
       "      <td>1685.039100</td>\n",
       "      <td>NaN</td>\n",
       "      <td>NaN</td>\n",
       "      <td>NaN</td>\n",
       "      <td>...</td>\n",
       "      <td>0</td>\n",
       "      <td>0</td>\n",
       "      <td>0</td>\n",
       "      <td>0</td>\n",
       "      <td>0</td>\n",
       "      <td>0</td>\n",
       "      <td>0</td>\n",
       "      <td>0</td>\n",
       "      <td>10</td>\n",
       "      <td>9.250000</td>\n",
       "    </tr>\n",
       "    <tr>\n",
       "      <th>2021-08-17</th>\n",
       "      <td>1703.900024</td>\n",
       "      <td>1748.900024</td>\n",
       "      <td>1686.550049</td>\n",
       "      <td>1741.650024</td>\n",
       "      <td>9510390</td>\n",
       "      <td>1711.570468</td>\n",
       "      <td>1694.160522</td>\n",
       "      <td>NaN</td>\n",
       "      <td>NaN</td>\n",
       "      <td>NaN</td>\n",
       "      <td>...</td>\n",
       "      <td>0</td>\n",
       "      <td>0</td>\n",
       "      <td>0</td>\n",
       "      <td>0</td>\n",
       "      <td>0</td>\n",
       "      <td>0</td>\n",
       "      <td>1</td>\n",
       "      <td>0</td>\n",
       "      <td>5</td>\n",
       "      <td>7.081633</td>\n",
       "    </tr>\n",
       "    <tr>\n",
       "      <th>2021-08-18</th>\n",
       "      <td>1729.000000</td>\n",
       "      <td>1755.500000</td>\n",
       "      <td>1727.000000</td>\n",
       "      <td>1733.449951</td>\n",
       "      <td>6686090</td>\n",
       "      <td>1719.058407</td>\n",
       "      <td>1699.984078</td>\n",
       "      <td>NaN</td>\n",
       "      <td>NaN</td>\n",
       "      <td>NaN</td>\n",
       "      <td>...</td>\n",
       "      <td>0</td>\n",
       "      <td>0</td>\n",
       "      <td>0</td>\n",
       "      <td>0</td>\n",
       "      <td>0</td>\n",
       "      <td>0</td>\n",
       "      <td>0</td>\n",
       "      <td>1</td>\n",
       "      <td>4</td>\n",
       "      <td>5.665441</td>\n",
       "    </tr>\n",
       "  </tbody>\n",
       "</table>\n",
       "<p>4 rows × 21 columns</p>\n",
       "</div>"
      ],
      "text/plain": [
       "                   Open         High          Low        Close   Volume  \\\n",
       "Date                                                                      \n",
       "2021-08-13  1697.000000  1722.500000  1691.300049  1712.199951  5612790   \n",
       "2021-08-16  1707.699951  1719.949951  1690.099976  1704.400024  4564109   \n",
       "2021-08-17  1703.900024  1748.900024  1686.550049  1741.650024  9510390   \n",
       "2021-08-18  1729.000000  1755.500000  1727.000000  1733.449951  6686090   \n",
       "\n",
       "                   5EMA        26EMA  rsi  macd  macdSignal  ...  \\\n",
       "Date                                                         ...   \n",
       "2021-08-13  1690.769910  1680.851034  NaN   NaN         NaN  ...   \n",
       "2021-08-16  1695.595725  1685.039100  NaN   NaN         NaN  ...   \n",
       "2021-08-17  1711.570468  1694.160522  NaN   NaN         NaN  ...   \n",
       "2021-08-18  1719.058407  1699.984078  NaN   NaN         NaN  ...   \n",
       "\n",
       "            macd_crossover  macd_crossunder  ema_crossover  ema_crossunder  \\\n",
       "Date                                                                         \n",
       "2021-08-13               0                0              0               0   \n",
       "2021-08-16               0                0              0               0   \n",
       "2021-08-17               0                0              0               0   \n",
       "2021-08-18               0                0              0               0   \n",
       "\n",
       "            rsi_buy  rsi_sell  volume_buy  volume_sell  totalScore  \\\n",
       "Date                                                                 \n",
       "2021-08-13        0         0           1            0           8   \n",
       "2021-08-16        0         0           0            0          10   \n",
       "2021-08-17        0         0           1            0           5   \n",
       "2021-08-18        0         0           0            1           4   \n",
       "\n",
       "            totalScore last  \n",
       "Date                         \n",
       "2021-08-13         8.000000  \n",
       "2021-08-16         9.250000  \n",
       "2021-08-17         7.081633  \n",
       "2021-08-18         5.665441  \n",
       "\n",
       "[4 rows x 21 columns]"
      ]
     },
     "execution_count": 450,
     "metadata": {},
     "output_type": "execute_result"
    }
   ],
   "source": [
    "data"
   ]
  },
  {
   "cell_type": "code",
   "execution_count": null,
   "metadata": {},
   "outputs": [],
   "source": []
  },
  {
   "cell_type": "code",
   "execution_count": 451,
   "metadata": {},
   "outputs": [
    {
     "name": "stderr",
     "output_type": "stream",
     "text": [
      "/tmp/ipykernel_3063/1350104779.py:1: SettingWithCopyWarning: \n",
      "A value is trying to be set on a copy of a slice from a DataFrame.\n",
      "Try using .loc[row_indexer,col_indexer] = value instead\n",
      "\n",
      "See the caveats in the documentation: https://pandas.pydata.org/pandas-docs/stable/user_guide/indexing.html#returning-a-view-versus-a-copy\n",
      "  data['dates'] = data.index.values\n",
      "/tmp/ipykernel_3063/1350104779.py:2: SettingWithCopyWarning: \n",
      "A value is trying to be set on a copy of a slice from a DataFrame.\n",
      "Try using .loc[row_indexer,col_indexer] = value instead\n",
      "\n",
      "See the caveats in the documentation: https://pandas.pydata.org/pandas-docs/stable/user_guide/indexing.html#returning-a-view-versus-a-copy\n",
      "  data['dates'] = data['dates'].apply(lambda x: x.split('-')[2])\n"
     ]
    }
   ],
   "source": [
    "data['dates'] = data.index.values\n",
    "data['dates'] = data['dates'].apply(lambda x: x.split('-')[2])"
   ]
  },
  {
   "cell_type": "code",
   "execution_count": 452,
   "metadata": {},
   "outputs": [],
   "source": [
    "totalScoreX = data.iloc[:,-2:-1]"
   ]
  },
  {
   "cell_type": "code",
   "execution_count": 453,
   "metadata": {},
   "outputs": [],
   "source": [
    "datesY = data[\"dates\"]\n",
    "datesY = datesY.astype(int)"
   ]
  },
  {
   "cell_type": "code",
   "execution_count": 454,
   "metadata": {},
   "outputs": [
    {
     "data": {
      "text/html": [
       "<div>\n",
       "<style scoped>\n",
       "    .dataframe tbody tr th:only-of-type {\n",
       "        vertical-align: middle;\n",
       "    }\n",
       "\n",
       "    .dataframe tbody tr th {\n",
       "        vertical-align: top;\n",
       "    }\n",
       "\n",
       "    .dataframe thead th {\n",
       "        text-align: right;\n",
       "    }\n",
       "</style>\n",
       "<table border=\"1\" class=\"dataframe\">\n",
       "  <thead>\n",
       "    <tr style=\"text-align: right;\">\n",
       "      <th></th>\n",
       "      <th>Open</th>\n",
       "      <th>High</th>\n",
       "      <th>Low</th>\n",
       "      <th>Close</th>\n",
       "      <th>Volume</th>\n",
       "      <th>5EMA</th>\n",
       "      <th>26EMA</th>\n",
       "      <th>rsi</th>\n",
       "      <th>macd</th>\n",
       "      <th>macdSignal</th>\n",
       "      <th>...</th>\n",
       "      <th>macd_crossunder</th>\n",
       "      <th>ema_crossover</th>\n",
       "      <th>ema_crossunder</th>\n",
       "      <th>rsi_buy</th>\n",
       "      <th>rsi_sell</th>\n",
       "      <th>volume_buy</th>\n",
       "      <th>volume_sell</th>\n",
       "      <th>totalScore</th>\n",
       "      <th>totalScore last</th>\n",
       "      <th>dates</th>\n",
       "    </tr>\n",
       "    <tr>\n",
       "      <th>Date</th>\n",
       "      <th></th>\n",
       "      <th></th>\n",
       "      <th></th>\n",
       "      <th></th>\n",
       "      <th></th>\n",
       "      <th></th>\n",
       "      <th></th>\n",
       "      <th></th>\n",
       "      <th></th>\n",
       "      <th></th>\n",
       "      <th></th>\n",
       "      <th></th>\n",
       "      <th></th>\n",
       "      <th></th>\n",
       "      <th></th>\n",
       "      <th></th>\n",
       "      <th></th>\n",
       "      <th></th>\n",
       "      <th></th>\n",
       "      <th></th>\n",
       "      <th></th>\n",
       "    </tr>\n",
       "  </thead>\n",
       "  <tbody>\n",
       "    <tr>\n",
       "      <th>2021-08-13</th>\n",
       "      <td>1697.000000</td>\n",
       "      <td>1722.500000</td>\n",
       "      <td>1691.300049</td>\n",
       "      <td>1712.199951</td>\n",
       "      <td>5612790</td>\n",
       "      <td>1690.769910</td>\n",
       "      <td>1680.851034</td>\n",
       "      <td>NaN</td>\n",
       "      <td>NaN</td>\n",
       "      <td>NaN</td>\n",
       "      <td>...</td>\n",
       "      <td>0</td>\n",
       "      <td>0</td>\n",
       "      <td>0</td>\n",
       "      <td>0</td>\n",
       "      <td>0</td>\n",
       "      <td>1</td>\n",
       "      <td>0</td>\n",
       "      <td>8</td>\n",
       "      <td>8.000000</td>\n",
       "      <td>13</td>\n",
       "    </tr>\n",
       "    <tr>\n",
       "      <th>2021-08-16</th>\n",
       "      <td>1707.699951</td>\n",
       "      <td>1719.949951</td>\n",
       "      <td>1690.099976</td>\n",
       "      <td>1704.400024</td>\n",
       "      <td>4564109</td>\n",
       "      <td>1695.595725</td>\n",
       "      <td>1685.039100</td>\n",
       "      <td>NaN</td>\n",
       "      <td>NaN</td>\n",
       "      <td>NaN</td>\n",
       "      <td>...</td>\n",
       "      <td>0</td>\n",
       "      <td>0</td>\n",
       "      <td>0</td>\n",
       "      <td>0</td>\n",
       "      <td>0</td>\n",
       "      <td>0</td>\n",
       "      <td>0</td>\n",
       "      <td>10</td>\n",
       "      <td>9.250000</td>\n",
       "      <td>16</td>\n",
       "    </tr>\n",
       "    <tr>\n",
       "      <th>2021-08-17</th>\n",
       "      <td>1703.900024</td>\n",
       "      <td>1748.900024</td>\n",
       "      <td>1686.550049</td>\n",
       "      <td>1741.650024</td>\n",
       "      <td>9510390</td>\n",
       "      <td>1711.570468</td>\n",
       "      <td>1694.160522</td>\n",
       "      <td>NaN</td>\n",
       "      <td>NaN</td>\n",
       "      <td>NaN</td>\n",
       "      <td>...</td>\n",
       "      <td>0</td>\n",
       "      <td>0</td>\n",
       "      <td>0</td>\n",
       "      <td>0</td>\n",
       "      <td>0</td>\n",
       "      <td>1</td>\n",
       "      <td>0</td>\n",
       "      <td>5</td>\n",
       "      <td>7.081633</td>\n",
       "      <td>17</td>\n",
       "    </tr>\n",
       "    <tr>\n",
       "      <th>2021-08-18</th>\n",
       "      <td>1729.000000</td>\n",
       "      <td>1755.500000</td>\n",
       "      <td>1727.000000</td>\n",
       "      <td>1733.449951</td>\n",
       "      <td>6686090</td>\n",
       "      <td>1719.058407</td>\n",
       "      <td>1699.984078</td>\n",
       "      <td>NaN</td>\n",
       "      <td>NaN</td>\n",
       "      <td>NaN</td>\n",
       "      <td>...</td>\n",
       "      <td>0</td>\n",
       "      <td>0</td>\n",
       "      <td>0</td>\n",
       "      <td>0</td>\n",
       "      <td>0</td>\n",
       "      <td>0</td>\n",
       "      <td>1</td>\n",
       "      <td>4</td>\n",
       "      <td>5.665441</td>\n",
       "      <td>18</td>\n",
       "    </tr>\n",
       "  </tbody>\n",
       "</table>\n",
       "<p>4 rows × 22 columns</p>\n",
       "</div>"
      ],
      "text/plain": [
       "                   Open         High          Low        Close   Volume  \\\n",
       "Date                                                                      \n",
       "2021-08-13  1697.000000  1722.500000  1691.300049  1712.199951  5612790   \n",
       "2021-08-16  1707.699951  1719.949951  1690.099976  1704.400024  4564109   \n",
       "2021-08-17  1703.900024  1748.900024  1686.550049  1741.650024  9510390   \n",
       "2021-08-18  1729.000000  1755.500000  1727.000000  1733.449951  6686090   \n",
       "\n",
       "                   5EMA        26EMA  rsi  macd  macdSignal  ...  \\\n",
       "Date                                                         ...   \n",
       "2021-08-13  1690.769910  1680.851034  NaN   NaN         NaN  ...   \n",
       "2021-08-16  1695.595725  1685.039100  NaN   NaN         NaN  ...   \n",
       "2021-08-17  1711.570468  1694.160522  NaN   NaN         NaN  ...   \n",
       "2021-08-18  1719.058407  1699.984078  NaN   NaN         NaN  ...   \n",
       "\n",
       "            macd_crossunder  ema_crossover  ema_crossunder  rsi_buy  rsi_sell  \\\n",
       "Date                                                                            \n",
       "2021-08-13                0              0               0        0         0   \n",
       "2021-08-16                0              0               0        0         0   \n",
       "2021-08-17                0              0               0        0         0   \n",
       "2021-08-18                0              0               0        0         0   \n",
       "\n",
       "            volume_buy  volume_sell  totalScore  totalScore last  dates  \n",
       "Date                                                                     \n",
       "2021-08-13           1            0           8         8.000000     13  \n",
       "2021-08-16           0            0          10         9.250000     16  \n",
       "2021-08-17           1            0           5         7.081633     17  \n",
       "2021-08-18           0            1           4         5.665441     18  \n",
       "\n",
       "[4 rows x 22 columns]"
      ]
     },
     "execution_count": 454,
     "metadata": {},
     "output_type": "execute_result"
    }
   ],
   "source": [
    "data"
   ]
  },
  {
   "cell_type": "code",
   "execution_count": 455,
   "metadata": {},
   "outputs": [
    {
     "data": {
      "text/plain": [
       "(4, 4)"
      ]
     },
     "execution_count": 455,
     "metadata": {},
     "output_type": "execute_result"
    }
   ],
   "source": [
    "len(totalScoreX),len(datesY)"
   ]
  },
  {
   "cell_type": "code",
   "execution_count": 456,
   "metadata": {},
   "outputs": [],
   "source": [
    "data = data.iloc[:-1]"
   ]
  },
  {
   "cell_type": "code",
   "execution_count": 457,
   "metadata": {},
   "outputs": [
    {
     "data": {
      "text/plain": [
       "LinearRegression()"
      ]
     },
     "execution_count": 457,
     "metadata": {},
     "output_type": "execute_result"
    }
   ],
   "source": [
    "from sklearn.linear_model import LinearRegression\n",
    "\n",
    "model = LinearRegression()\n",
    "model.fit(np.array(datesY).reshape(-1, 1), totalScoreX)"
   ]
  },
  {
   "cell_type": "code",
   "execution_count": 458,
   "metadata": {},
   "outputs": [
    {
     "data": {
      "text/html": [
       "<div>\n",
       "<style scoped>\n",
       "    .dataframe tbody tr th:only-of-type {\n",
       "        vertical-align: middle;\n",
       "    }\n",
       "\n",
       "    .dataframe tbody tr th {\n",
       "        vertical-align: top;\n",
       "    }\n",
       "\n",
       "    .dataframe thead th {\n",
       "        text-align: right;\n",
       "    }\n",
       "</style>\n",
       "<table border=\"1\" class=\"dataframe\">\n",
       "  <thead>\n",
       "    <tr style=\"text-align: right;\">\n",
       "      <th></th>\n",
       "      <th>Open</th>\n",
       "      <th>High</th>\n",
       "      <th>Low</th>\n",
       "      <th>Close</th>\n",
       "      <th>Volume</th>\n",
       "      <th>5EMA</th>\n",
       "      <th>26EMA</th>\n",
       "      <th>rsi</th>\n",
       "      <th>macd</th>\n",
       "      <th>macdSignal</th>\n",
       "      <th>...</th>\n",
       "      <th>macd_crossunder</th>\n",
       "      <th>ema_crossover</th>\n",
       "      <th>ema_crossunder</th>\n",
       "      <th>rsi_buy</th>\n",
       "      <th>rsi_sell</th>\n",
       "      <th>volume_buy</th>\n",
       "      <th>volume_sell</th>\n",
       "      <th>totalScore</th>\n",
       "      <th>totalScore last</th>\n",
       "      <th>dates</th>\n",
       "    </tr>\n",
       "    <tr>\n",
       "      <th>Date</th>\n",
       "      <th></th>\n",
       "      <th></th>\n",
       "      <th></th>\n",
       "      <th></th>\n",
       "      <th></th>\n",
       "      <th></th>\n",
       "      <th></th>\n",
       "      <th></th>\n",
       "      <th></th>\n",
       "      <th></th>\n",
       "      <th></th>\n",
       "      <th></th>\n",
       "      <th></th>\n",
       "      <th></th>\n",
       "      <th></th>\n",
       "      <th></th>\n",
       "      <th></th>\n",
       "      <th></th>\n",
       "      <th></th>\n",
       "      <th></th>\n",
       "      <th></th>\n",
       "    </tr>\n",
       "  </thead>\n",
       "  <tbody>\n",
       "    <tr>\n",
       "      <th>2021-08-13</th>\n",
       "      <td>1697.000000</td>\n",
       "      <td>1722.500000</td>\n",
       "      <td>1691.300049</td>\n",
       "      <td>1712.199951</td>\n",
       "      <td>5612790</td>\n",
       "      <td>1690.769910</td>\n",
       "      <td>1680.851034</td>\n",
       "      <td>NaN</td>\n",
       "      <td>NaN</td>\n",
       "      <td>NaN</td>\n",
       "      <td>...</td>\n",
       "      <td>0</td>\n",
       "      <td>0</td>\n",
       "      <td>0</td>\n",
       "      <td>0</td>\n",
       "      <td>0</td>\n",
       "      <td>1</td>\n",
       "      <td>0</td>\n",
       "      <td>8</td>\n",
       "      <td>8.000000</td>\n",
       "      <td>13</td>\n",
       "    </tr>\n",
       "    <tr>\n",
       "      <th>2021-08-16</th>\n",
       "      <td>1707.699951</td>\n",
       "      <td>1719.949951</td>\n",
       "      <td>1690.099976</td>\n",
       "      <td>1704.400024</td>\n",
       "      <td>4564109</td>\n",
       "      <td>1695.595725</td>\n",
       "      <td>1685.039100</td>\n",
       "      <td>NaN</td>\n",
       "      <td>NaN</td>\n",
       "      <td>NaN</td>\n",
       "      <td>...</td>\n",
       "      <td>0</td>\n",
       "      <td>0</td>\n",
       "      <td>0</td>\n",
       "      <td>0</td>\n",
       "      <td>0</td>\n",
       "      <td>0</td>\n",
       "      <td>0</td>\n",
       "      <td>10</td>\n",
       "      <td>9.250000</td>\n",
       "      <td>16</td>\n",
       "    </tr>\n",
       "    <tr>\n",
       "      <th>2021-08-17</th>\n",
       "      <td>1703.900024</td>\n",
       "      <td>1748.900024</td>\n",
       "      <td>1686.550049</td>\n",
       "      <td>1741.650024</td>\n",
       "      <td>9510390</td>\n",
       "      <td>1711.570468</td>\n",
       "      <td>1694.160522</td>\n",
       "      <td>NaN</td>\n",
       "      <td>NaN</td>\n",
       "      <td>NaN</td>\n",
       "      <td>...</td>\n",
       "      <td>0</td>\n",
       "      <td>0</td>\n",
       "      <td>0</td>\n",
       "      <td>0</td>\n",
       "      <td>0</td>\n",
       "      <td>1</td>\n",
       "      <td>0</td>\n",
       "      <td>5</td>\n",
       "      <td>7.081633</td>\n",
       "      <td>17</td>\n",
       "    </tr>\n",
       "  </tbody>\n",
       "</table>\n",
       "<p>3 rows × 22 columns</p>\n",
       "</div>"
      ],
      "text/plain": [
       "                   Open         High          Low        Close   Volume  \\\n",
       "Date                                                                      \n",
       "2021-08-13  1697.000000  1722.500000  1691.300049  1712.199951  5612790   \n",
       "2021-08-16  1707.699951  1719.949951  1690.099976  1704.400024  4564109   \n",
       "2021-08-17  1703.900024  1748.900024  1686.550049  1741.650024  9510390   \n",
       "\n",
       "                   5EMA        26EMA  rsi  macd  macdSignal  ...  \\\n",
       "Date                                                         ...   \n",
       "2021-08-13  1690.769910  1680.851034  NaN   NaN         NaN  ...   \n",
       "2021-08-16  1695.595725  1685.039100  NaN   NaN         NaN  ...   \n",
       "2021-08-17  1711.570468  1694.160522  NaN   NaN         NaN  ...   \n",
       "\n",
       "            macd_crossunder  ema_crossover  ema_crossunder  rsi_buy  rsi_sell  \\\n",
       "Date                                                                            \n",
       "2021-08-13                0              0               0        0         0   \n",
       "2021-08-16                0              0               0        0         0   \n",
       "2021-08-17                0              0               0        0         0   \n",
       "\n",
       "            volume_buy  volume_sell  totalScore  totalScore last  dates  \n",
       "Date                                                                     \n",
       "2021-08-13           1            0           8         8.000000     13  \n",
       "2021-08-16           0            0          10         9.250000     16  \n",
       "2021-08-17           1            0           5         7.081633     17  \n",
       "\n",
       "[3 rows x 22 columns]"
      ]
     },
     "execution_count": 458,
     "metadata": {},
     "output_type": "execute_result"
    }
   ],
   "source": [
    "data.tail(10)"
   ]
  },
  {
   "cell_type": "code",
   "execution_count": 459,
   "metadata": {},
   "outputs": [
    {
     "name": "stderr",
     "output_type": "stream",
     "text": [
      "/home/vivek/.local/lib/python3.8/site-packages/seaborn/_decorators.py:36: FutureWarning: Pass the following variables as keyword args: x, y. From version 0.12, the only valid positional argument will be `data`, and passing other arguments without an explicit keyword will result in an error or misinterpretation.\n",
      "  warnings.warn(\n"
     ]
    },
    {
     "data": {
      "image/png": "[encoded data removed]",
      "text/plain": [
       "<Figure size 432x288 with 1 Axes>"
      ]
     },
     "metadata": {
      "needs_background": "light"
     },
     "output_type": "display_data"
    }
   ],
   "source": [
    "import seaborn as sns\n",
    "sns.regplot(datesY, totalScoreX)\n",
    "plt.show()"
   ]
  },
  {
   "cell_type": "code",
   "execution_count": 460,
   "metadata": {},
   "outputs": [
    {
     "data": {
      "text/plain": [
       "array([[6.70105632]])"
      ]
     },
     "execution_count": 460,
     "metadata": {},
     "output_type": "execute_result"
    }
   ],
   "source": [
    "yhat = model.predict([[18]]) #predict score for next day\n",
    "yhat"
   ]
  },
  {
   "cell_type": "code",
   "execution_count": 461,
   "metadata": {},
   "outputs": [
    {
     "data": {
      "text/html": [
       "<div>\n",
       "<style scoped>\n",
       "    .dataframe tbody tr th:only-of-type {\n",
       "        vertical-align: middle;\n",
       "    }\n",
       "\n",
       "    .dataframe tbody tr th {\n",
       "        vertical-align: top;\n",
       "    }\n",
       "\n",
       "    .dataframe thead th {\n",
       "        text-align: right;\n",
       "    }\n",
       "</style>\n",
       "<table border=\"1\" class=\"dataframe\">\n",
       "  <thead>\n",
       "    <tr style=\"text-align: right;\">\n",
       "      <th></th>\n",
       "      <th>totalScore last</th>\n",
       "      <th>dates</th>\n",
       "    </tr>\n",
       "    <tr>\n",
       "      <th>Date</th>\n",
       "      <th></th>\n",
       "      <th></th>\n",
       "    </tr>\n",
       "  </thead>\n",
       "  <tbody>\n",
       "    <tr>\n",
       "      <th>2021-08-13</th>\n",
       "      <td>8.000000</td>\n",
       "      <td>13</td>\n",
       "    </tr>\n",
       "    <tr>\n",
       "      <th>2021-08-16</th>\n",
       "      <td>9.250000</td>\n",
       "      <td>16</td>\n",
       "    </tr>\n",
       "    <tr>\n",
       "      <th>2021-08-17</th>\n",
       "      <td>7.081633</td>\n",
       "      <td>17</td>\n",
       "    </tr>\n",
       "  </tbody>\n",
       "</table>\n",
       "</div>"
      ],
      "text/plain": [
       "            totalScore last dates\n",
       "Date                             \n",
       "2021-08-13         8.000000    13\n",
       "2021-08-16         9.250000    16\n",
       "2021-08-17         7.081633    17"
      ]
     },
     "execution_count": 461,
     "metadata": {},
     "output_type": "execute_result"
    }
   ],
   "source": [
    "data.iloc[:,-2:]"
   ]
  },
  {
   "cell_type": "code",
   "execution_count": 462,
   "metadata": {},
   "outputs": [
    {
     "data": {
      "text/plain": [
       "RandomForestRegressor(random_state=0)"
      ]
     },
     "execution_count": 462,
     "metadata": {},
     "output_type": "execute_result"
    }
   ],
   "source": [
    "from sklearn.ensemble import RandomForestRegressor\n",
    "\n",
    "# create regressor object\n",
    "regressor = RandomForestRegressor(n_estimators = 100, random_state = 0)\n",
    "\n",
    "# fit the regressor with x and y data\n",
    "# x =Open\tHigh\tLow\tClose\tVolume\n",
    "# y = 5EMA\t26EMA\trsi\tmacd\tmacdSignal\tmacdHist\n",
    "regressor.fit(np.asarray(data['totalScore last']).reshape(-1, 1),data['Close'])"
   ]
  },
  {
   "cell_type": "code",
   "execution_count": 463,
   "metadata": {},
   "outputs": [
    {
     "name": "stderr",
     "output_type": "stream",
     "text": [
      "/home/vivek/.local/lib/python3.8/site-packages/seaborn/_decorators.py:36: FutureWarning: Pass the following variables as keyword args: x, y. From version 0.12, the only valid positional argument will be `data`, and passing other arguments without an explicit keyword will result in an error or misinterpretation.\n",
      "  warnings.warn(\n"
     ]
    },
    {
     "data": {
      "image/png": "[encoded data removed]",
      "text/plain": [
       "<Figure size 432x288 with 1 Axes>"
      ]
     },
     "metadata": {
      "needs_background": "light"
     },
     "output_type": "display_data"
    }
   ],
   "source": [
    "import seaborn as sns\n",
    "sns.regplot(data['totalScore last'], data['Close'])\n",
    "plt.show()"
   ]
  },
  {
   "cell_type": "code",
   "execution_count": 464,
   "metadata": {},
   "outputs": [
    {
     "data": {
      "text/plain": [
       "array([1731.15150757])"
      ]
     },
     "execution_count": 464,
     "metadata": {},
     "output_type": "execute_result"
    }
   ],
   "source": [
    "regressor.predict(yhat)#predict close"
   ]
  },
  {
   "cell_type": "code",
   "execution_count": null,
   "metadata": {},
   "outputs": [],
   "source": []
  },
  {
   "cell_type": "code",
   "execution_count": null,
   "metadata": {},
   "outputs": [],
   "source": []
  }
 ],
 "metadata": {
  "colab": {
   "collapsed_sections": [],
   "name": "Untitled4.ipynb",
   "provenance": []
  },
  "kernelspec": {
   "display_name": "Python 3 (ipykernel)",
   "language": "python",
   "name": "python3"
  },
  "language_info": {
   "codemirror_mode": {
    "name": "ipython",
    "version": 3
   },
   "file_extension": ".py",
   "mimetype": "text/x-python",
   "name": "python",
   "nbconvert_exporter": "python",
   "pygments_lexer": "ipython3",
   "version": "3.8.10"
  }
 },
 "nbformat": 4,
 "nbformat_minor": 1
}
