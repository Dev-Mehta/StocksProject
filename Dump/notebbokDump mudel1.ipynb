{
 "cells": [
  {
   "cell_type": "code",
   "execution_count": 7,
   "metadata": {
    "colab": {
     "base_uri": "https://localhost:8080/"
    },
    "id": "AviqhkRagxRT",
    "outputId": "db7b9b99-2aa3-492f-c4ed-efca60942fda"
   },
   "outputs": [
    {
     "name": "stdout",
     "output_type": "stream",
     "text": [
      "./configure: line 4354: /usr/bin/file: No such file or directory\n",
      "libtool: link: warning: `-version-info/-version-number' is ignored for convenience libraries\n",
      "ar: `u' modifier ignored since `D' is the default (see `U')\n",
      "libtool: link: warning: `-version-info/-version-number' is ignored for convenience libraries\n",
      "ar: `u' modifier ignored since `D' is the default (see `U')\n",
      "libtool: link: warning: `-version-info/-version-number' is ignored for convenience libraries\n",
      "ar: `u' modifier ignored since `D' is the default (see `U')\n",
      "libtool: link: warning: `-version-info/-version-number' is ignored for convenience libraries\n",
      "ar: `u' modifier ignored since `D' is the default (see `U')\n",
      "ar: `u' modifier ignored since `D' is the default (see `U')\n",
      "\u001b[01m\u001b[Kgen_code.c:\u001b[m\u001b[K In function ‘\u001b[01m\u001b[KprintFuncHeaderDoc\u001b[m\u001b[K’:\n",
      "\u001b[01m\u001b[Kgen_code.c:3456:4:\u001b[m\u001b[K \u001b[01;35m\u001b[Kwarning: \u001b[m\u001b[Kformat not a string literal and no format arguments [\u001b[01;35m\u001b[K-Wformat-security\u001b[m\u001b[K]\n",
      "    \u001b[01;35m\u001b[Kfprintf\u001b[m\u001b[K( out, prefix );\n",
      "    \u001b[01;35m\u001b[K^~~~~~~\u001b[m\u001b[K\n"
     ]
    }
   ],
   "source": [
    "# !wget -q http://prdownloads.sourceforge.net/ta-lib/ta-lib-0.4.0-src.tar.gz 2>&1 > /dev/null\n",
    "# !tar xvzf ta-lib-0.4.0-src.tar.gz 2>&1 > /dev/null\n",
    "\n",
    "# import os\n",
    "\n",
    "# os.chdir('ta-lib') # Can't use !cd in co-lab\n",
    "\n",
    "# !./configure --prefix=/usr 2>&1 > /dev/null\n",
    "# !make 2>&1 > /dev/null\n",
    "# !make install 2>&1 > /dev/null\n",
    "\n",
    "# os.chdir('../')\n",
    "\n",
    "# !pip install TA-Lib 2>&1 > /dev/null"
   ]
  },
  {
   "cell_type": "code",
   "execution_count": null,
   "metadata": {},
   "outputs": [],
   "source": []
  },
  {
   "cell_type": "code",
   "execution_count": 30,
   "metadata": {
    "id": "kQ9BYRgljhUc"
   },
   "outputs": [],
   "source": []
  },
  {
   "cell_type": "code",
   "execution_count": 5,
   "metadata": {
    "colab": {
     "base_uri": "https://localhost:8080/"
    },
    "id": "AahSw8o5h-2x",
    "outputId": "330b58d1-081a-4c45-9716-1d98576a79a5"
   },
   "outputs": [
    {
     "name": "stdout",
     "output_type": "stream",
     "text": [
      "Collecting yfinance\n",
      "  Downloading yfinance-0.1.66-py2.py3-none-any.whl (25 kB)\n",
      "Requirement already satisfied: pandas>=0.24 in /usr/local/lib/python3.7/dist-packages (from yfinance) (1.3.4)\n",
      "Collecting lxml>=4.5.1\n",
      "  Downloading lxml-4.6.4-cp37-cp37m-manylinux_2_17_x86_64.manylinux2014_x86_64.manylinux_2_24_x86_64.whl (6.3 MB)\n",
      "\u001b[K     |████████████████████████████████| 6.3 MB 8.6 MB/s \n",
      "\u001b[?25hRequirement already satisfied: multitasking>=0.0.7 in /usr/local/lib/python3.7/dist-packages (from yfinance) (0.0.9)\n",
      "Requirement already satisfied: requests>=2.20 in /usr/local/lib/python3.7/dist-packages (from yfinance) (2.23.0)\n",
      "Requirement already satisfied: numpy>=1.15 in /usr/local/lib/python3.7/dist-packages (from yfinance) (1.19.5)\n",
      "Requirement already satisfied: python-dateutil>=2.7.3 in /usr/local/lib/python3.7/dist-packages (from pandas>=0.24->yfinance) (2.8.2)\n",
      "Requirement already satisfied: pytz>=2017.3 in /usr/local/lib/python3.7/dist-packages (from pandas>=0.24->yfinance) (2018.9)\n",
      "Requirement already satisfied: six>=1.5 in /usr/local/lib/python3.7/dist-packages (from python-dateutil>=2.7.3->pandas>=0.24->yfinance) (1.15.0)\n",
      "Requirement already satisfied: chardet<4,>=3.0.2 in /usr/local/lib/python3.7/dist-packages (from requests>=2.20->yfinance) (3.0.4)\n",
      "Requirement already satisfied: certifi>=2017.4.17 in /usr/local/lib/python3.7/dist-packages (from requests>=2.20->yfinance) (2021.10.8)\n",
      "Requirement already satisfied: idna<3,>=2.5 in /usr/local/lib/python3.7/dist-packages (from requests>=2.20->yfinance) (2.10)\n",
      "Requirement already satisfied: urllib3!=1.25.0,!=1.25.1,<1.26,>=1.21.1 in /usr/local/lib/python3.7/dist-packages (from requests>=2.20->yfinance) (1.24.3)\n",
      "Installing collected packages: lxml, yfinance\n",
      "  Attempting uninstall: lxml\n",
      "    Found existing installation: lxml 4.2.6\n",
      "    Uninstalling lxml-4.2.6:\n",
      "      Successfully uninstalled lxml-4.2.6\n",
      "Successfully installed lxml-4.6.4 yfinance-0.1.66\n"
     ]
    }
   ],
   "source": [
    "# !pip install yfinance"
   ]
  },
  {
   "cell_type": "code",
   "execution_count": 1,
   "metadata": {
    "id": "GG-QuPF4g_ag"
   },
   "outputs": [],
   "source": [
    "from pandas.core.frame import DataFrame\n",
    "import yfinance as yf\n",
    "import numpy as np\n",
    "import talib as ta\n",
    "import pandas as pd"
   ]
  },
  {
   "cell_type": "code",
   "execution_count": 2,
   "metadata": {
    "id": "7DpQfJgRjSNb"
   },
   "outputs": [],
   "source": [
    "def get_score(df: DataFrame, indicator: str, entry_type='long'):\n",
    "\tindicator = indicator.upper()\n",
    " \n",
    "\tif indicator == 'RSI' and entry_type == 'long':\n",
    "\t\ttry:\n",
    "\t\t\trsiValue = df.rsi.head(1).values[0]\n",
    "\t\t\tif rsiValue in range(60,70):\n",
    "\t\t\t\treturn 5\n",
    "\t\t\telif rsiValue in range(70,80):\n",
    "\t\t\t\treturn 4\n",
    "\t\t\telif rsiValue >= 80:\n",
    "\t\t\t\treturn 3\n",
    "\t\t\telif rsiValue in range(50,60):\n",
    "\t\t\t\treturn 2\n",
    "\t\t\telse:\n",
    "\t\t\t\treturn 0\n",
    "\t\texcept IndexError:\n",
    "\t\t\treturn 0\n",
    "\tif indicator == 'MACD' and entry_type == 'long':\n",
    "\t\tmacd = df.macd_crossover\n",
    "\t\ttry:\n",
    "\t\t\tdate = macd.iloc[list(np.where(df[\"macd_crossover\"] == 1)[0])].index.values[0]\n",
    "\t\t\tdate = pd.to_datetime(date)\n",
    "\t\t\tdates = df.index.values\n",
    "\t\t\tfor i in range(0,len(dates)):\n",
    "\t\t\t\tif pd.to_datetime(dates[i]).date() == date:\n",
    "\t\t\t\t\treturn 5 - i\n",
    "\t\t\treturn 0\n",
    "\t\texcept IndexError:\n",
    "\t\t\treturn 0\n",
    "\tif indicator == 'EMA' and entry_type == 'long':\n",
    "\t\ttry:\n",
    "\t\t\tdate = df.ema_crossover.iloc[list(np.where(df[\"ema_crossover\"] == 1)[0])].index.values[0]\n",
    "\t\t\tdate = pd.to_datetime(date)\n",
    "\t\t\tdates = df.index.values\n",
    "\t\t\tfor i in range(0,len(dates)):\n",
    "\t\t\t\tif pd.to_datetime(dates[i]).date() == date:\n",
    "\t\t\t\t\treturn 5 - i\n",
    "\t\t\treturn 0\n",
    "\t\texcept IndexError:\n",
    "\t\t\treturn 0\n",
    "\tif indicator == 'VOLUME' and entry_type == 'long':\n",
    "\t\ttry:\n",
    "\t\t\tdate = df.volume_buy.iloc[list(np.where(df[\"volume_buy\"] == 1)[0])].index.values[0]\n",
    "\t\t\tdate = pd.to_datetime(date)\n",
    "\t\t\tdates = df.index.values\n",
    "\t\t\tfor i in range(0,len(dates)):\n",
    "\t\t\t\tif pd.to_datetime(dates[i]).date() == date:\n",
    "\t\t\t\t\treturn 5 - i\n",
    "\t\t\treturn 0\n",
    "\t\texcept IndexError:\n",
    "\t\t\treturn 0\n",
    "\treturn None"
   ]
  },
  {
   "cell_type": "code",
   "execution_count": 3,
   "metadata": {
    "colab": {
     "base_uri": "https://localhost:8080/",
     "height": 236
    },
    "id": "ScKy1rW9hCNN",
    "outputId": "bc9e51a5-c3a2-4d2b-9cf4-155db49eb725"
   },
   "outputs": [
    {
     "data": {
      "text/html": [
       "<div>\n",
       "<style scoped>\n",
       "    .dataframe tbody tr th:only-of-type {\n",
       "        vertical-align: middle;\n",
       "    }\n",
       "\n",
       "    .dataframe tbody tr th {\n",
       "        vertical-align: top;\n",
       "    }\n",
       "\n",
       "    .dataframe thead th {\n",
       "        text-align: right;\n",
       "    }\n",
       "</style>\n",
       "<table border=\"1\" class=\"dataframe\">\n",
       "  <thead>\n",
       "    <tr style=\"text-align: right;\">\n",
       "      <th></th>\n",
       "      <th>Open</th>\n",
       "      <th>High</th>\n",
       "      <th>Low</th>\n",
       "      <th>Close</th>\n",
       "      <th>Adj Close</th>\n",
       "      <th>Volume</th>\n",
       "    </tr>\n",
       "    <tr>\n",
       "      <th>Date</th>\n",
       "      <th></th>\n",
       "      <th></th>\n",
       "      <th></th>\n",
       "      <th></th>\n",
       "      <th></th>\n",
       "      <th></th>\n",
       "    </tr>\n",
       "  </thead>\n",
       "  <tbody>\n",
       "    <tr>\n",
       "      <th>2020-08-21</th>\n",
       "      <td>963.049988</td>\n",
       "      <td>963.450012</td>\n",
       "      <td>946.549988</td>\n",
       "      <td>948.799988</td>\n",
       "      <td>928.694214</td>\n",
       "      <td>6513773</td>\n",
       "    </tr>\n",
       "    <tr>\n",
       "      <th>2020-08-24</th>\n",
       "      <td>947.000000</td>\n",
       "      <td>952.000000</td>\n",
       "      <td>939.200012</td>\n",
       "      <td>947.400024</td>\n",
       "      <td>927.323975</td>\n",
       "      <td>5798574</td>\n",
       "    </tr>\n",
       "    <tr>\n",
       "      <th>2020-08-25</th>\n",
       "      <td>947.500000</td>\n",
       "      <td>948.650024</td>\n",
       "      <td>933.599976</td>\n",
       "      <td>938.099976</td>\n",
       "      <td>918.220947</td>\n",
       "      <td>6233918</td>\n",
       "    </tr>\n",
       "    <tr>\n",
       "      <th>2020-08-26</th>\n",
       "      <td>941.250000</td>\n",
       "      <td>954.250000</td>\n",
       "      <td>938.400024</td>\n",
       "      <td>950.799988</td>\n",
       "      <td>930.651855</td>\n",
       "      <td>5153601</td>\n",
       "    </tr>\n",
       "    <tr>\n",
       "      <th>2020-08-27</th>\n",
       "      <td>960.000000</td>\n",
       "      <td>960.950012</td>\n",
       "      <td>945.200012</td>\n",
       "      <td>947.049988</td>\n",
       "      <td>926.981323</td>\n",
       "      <td>6154280</td>\n",
       "    </tr>\n",
       "  </tbody>\n",
       "</table>\n",
       "</div>"
      ],
      "text/plain": [
       "                  Open        High         Low       Close   Adj Close  \\\n",
       "Date                                                                     \n",
       "2020-08-21  963.049988  963.450012  946.549988  948.799988  928.694214   \n",
       "2020-08-24  947.000000  952.000000  939.200012  947.400024  927.323975   \n",
       "2020-08-25  947.500000  948.650024  933.599976  938.099976  918.220947   \n",
       "2020-08-26  941.250000  954.250000  938.400024  950.799988  930.651855   \n",
       "2020-08-27  960.000000  960.950012  945.200012  947.049988  926.981323   \n",
       "\n",
       "             Volume  \n",
       "Date                 \n",
       "2020-08-21  6513773  \n",
       "2020-08-24  5798574  \n",
       "2020-08-25  6233918  \n",
       "2020-08-26  5153601  \n",
       "2020-08-27  6154280  "
      ]
     },
     "execution_count": 3,
     "metadata": {},
     "output_type": "execute_result"
    }
   ],
   "source": [
    "data = pd.read_csv('INFY.csv')\n",
    "data.set_index('Date', inplace=True)\n",
    "data.head()"
   ]
  },
  {
   "cell_type": "code",
   "execution_count": null,
   "metadata": {
    "colab": {
     "base_uri": "https://localhost:8080/",
     "height": 36
    },
    "id": "tiPUNVWqox9r",
    "outputId": "cf366a72-df2b-4fc2-d693-c1b2b62b74b2"
   },
   "outputs": [],
   "source": []
  },
  {
   "cell_type": "code",
   "execution_count": 4,
   "metadata": {
    "colab": {
     "base_uri": "https://localhost:8080/"
    },
    "id": "KFe-7sHCnFp3",
    "outputId": "99b8ad14-4cb6-4229-b735-e3312dbf5844"
   },
   "outputs": [],
   "source": [
    "#data = DataFrame(yf.download('BTC-USD','2016-01-01',current_date))"
   ]
  },
  {
   "cell_type": "code",
   "execution_count": 5,
   "metadata": {
    "id": "nadQNv8xnuUZ"
   },
   "outputs": [],
   "source": [
    "data = data.drop(['Adj Close'], axis = 1)"
   ]
  },
  {
   "cell_type": "code",
   "execution_count": 6,
   "metadata": {
    "id": "ipkIp54VjhQg",
    "scrolled": true
   },
   "outputs": [
    {
     "name": "stderr",
     "output_type": "stream",
     "text": [
      "/tmp/ipykernel_49019/3700509915.py:48: FutureWarning: Comparison of Timestamp with datetime.date is deprecated in order to match the standard library behavior.  In a future version these will be considered non-comparable.Use 'ts == pd.Timestamp(date)' or 'ts.date() == date' instead.\n",
      "  if pd.to_datetime(dates[i]).date() == date:\n"
     ]
    }
   ],
   "source": [
    "data['5EMA'] = pd.Series.ewm(data['Close'], span=5).mean()\n",
    "\n",
    "data['26EMA'] = pd.Series.ewm(data['Close'], span=26).mean()\n",
    "\n",
    "data['rsi'] = ta.RSI(data['Close'].values, timeperiod=14)\n",
    "\n",
    "data['macd'], data['macdSignal'], data['macdHist'] = ta.MACD(data.Close.values, fastperiod=12, slowperiod=26, signalperiod=9)\n",
    "\n",
    "data['macd_crossover'] = np.where(((data.macd > data.macdSignal) & (data.macd.shift(1) < data.macdSignal.shift(1))), 1, 0)\n",
    "data['macd_crossunder'] = np.where(((data.macd < data.macdSignal) & (data.macd.shift(1) > data.macdSignal.shift(1))), 1, 0)\n",
    "data['ema_crossover'] = np.where(((data['5EMA'].shift(1) <= data['26EMA'].shift(1)) & (data['5EMA'] > data['26EMA'] )), 1, 0)\n",
    "data['ema_crossunder'] = np.where(((data['5EMA'].shift(1) >= data['26EMA'].shift(1)) & (data['5EMA'] < data['26EMA'] )), 1, 0)\n",
    "\n",
    "data['rsi_buy'] = np.where(data.rsi > 60, 1, 0)\n",
    "data['rsi_sell'] = np.where(data.rsi < 40, 1, 0)\n",
    "\n",
    "data['volume_buy'] = np.where((data.Volume > data.Volume.ewm(span=5).mean()) & (data.Close > data.Close.shift(1)), 1, 0)\n",
    "data['volume_sell'] = np.where((data.Volume > data.Volume.ewm(span=5).mean()) & (data.Close < data.Close.shift(1)), 1, 0)\n",
    "\n",
    "last_week_data = data.tail(5).sort_values(by='Date', ascending=False)\n",
    "rsiScore = get_score(last_week_data, indicator='rsi')\n",
    "macdScore = get_score(last_week_data, indicator='macd')\n",
    "emaScore = get_score(last_week_data, indicator='ema')\n",
    "volumeScore = get_score(last_week_data, indicator='volume')\n",
    "totalScore = rsiScore + macdScore + emaScore + volumeScore"
   ]
  },
  {
   "cell_type": "code",
   "execution_count": 7,
   "metadata": {
    "colab": {
     "base_uri": "https://localhost:8080/"
    },
    "id": "sjKxO0PijdZO",
    "outputId": "b1ffad48-dec9-4f96-be00-c0c9186c8128"
   },
   "outputs": [
    {
     "name": "stderr",
     "output_type": "stream",
     "text": [
      "/tmp/ipykernel_49019/3700509915.py:37: FutureWarning: Comparison of Timestamp with datetime.date is deprecated in order to match the standard library behavior.  In a future version these will be considered non-comparable.Use 'ts == pd.Timestamp(date)' or 'ts.date() == date' instead.\n",
      "  if pd.to_datetime(dates[i]).date() == date:\n",
      "/tmp/ipykernel_49019/3700509915.py:48: FutureWarning: Comparison of Timestamp with datetime.date is deprecated in order to match the standard library behavior.  In a future version these will be considered non-comparable.Use 'ts == pd.Timestamp(date)' or 'ts.date() == date' instead.\n",
      "  if pd.to_datetime(dates[i]).date() == date:\n",
      "/tmp/ipykernel_49019/3700509915.py:26: FutureWarning: Comparison of Timestamp with datetime.date is deprecated in order to match the standard library behavior.  In a future version these will be considered non-comparable.Use 'ts == pd.Timestamp(date)' or 'ts.date() == date' instead.\n",
      "  if pd.to_datetime(dates[i]).date() == date:\n"
     ]
    }
   ],
   "source": [
    "totalScoreL = [0,0,0,0,0]\n",
    "for i in range(len(data.index.values)-5):\n",
    "\tdf = data[i:i+5]\n",
    "\trsiScore = get_score(df, indicator='rsi')\n",
    "\tmacdScore = get_score(df, indicator='macd')\n",
    "\temaScore = get_score(df, indicator='ema')\n",
    "\tvolumeScore = get_score(df, indicator='volume')\n",
    "\ttotalScore = rsiScore + macdScore + emaScore + volumeScore\n",
    "\ttotalScoreL.append(totalScore)"
   ]
  },
  {
   "cell_type": "code",
   "execution_count": 8,
   "metadata": {},
   "outputs": [],
   "source": [
    "data['totalScore'] = totalScoreL"
   ]
  },
  {
   "cell_type": "code",
   "execution_count": 9,
   "metadata": {},
   "outputs": [
    {
     "data": {
      "image/png": "[encoded data removed]",
      "text/plain": [
       "<Figure size 1920x600 with 1 Axes>"
      ]
     },
     "metadata": {
      "needs_background": "light"
     },
     "output_type": "display_data"
    }
   ],
   "source": [
    "import matplotlib.pyplot as plt\n",
    "def draw_ts_plot(timeseries, xlabel ='Date', ylabel ='totalScore', title =\"\", dpi=120):\n",
    "    plt.figure(figsize=(16,5),dpi=dpi)\n",
    "    plt.plot(timeseries, color='red')\n",
    "    plt.gca().set(title=title, xlabel=xlabel, ylabel=ylabel)\n",
    "    plt.show()\n",
    "\n",
    "draw_ts_plot(data, xlabel=\"Date\", ylabel = \"score\", title=\"all time sore count\")"
   ]
  },
  {
   "cell_type": "code",
   "execution_count": 10,
   "metadata": {},
   "outputs": [
    {
     "data": {
      "text/plain": [
       "248"
      ]
     },
     "execution_count": 10,
     "metadata": {},
     "output_type": "execute_result"
    }
   ],
   "source": [
    "len(data)"
   ]
  },
  {
   "cell_type": "code",
   "execution_count": 11,
   "metadata": {},
   "outputs": [],
   "source": [
    "# data.totalScore[33:]"
   ]
  },
  {
   "cell_type": "code",
   "execution_count": 12,
   "metadata": {},
   "outputs": [
    {
     "data": {
      "text/html": [
       "<div>\n",
       "<style scoped>\n",
       "    .dataframe tbody tr th:only-of-type {\n",
       "        vertical-align: middle;\n",
       "    }\n",
       "\n",
       "    .dataframe tbody tr th {\n",
       "        vertical-align: top;\n",
       "    }\n",
       "\n",
       "    .dataframe thead th {\n",
       "        text-align: right;\n",
       "    }\n",
       "</style>\n",
       "<table border=\"1\" class=\"dataframe\">\n",
       "  <thead>\n",
       "    <tr style=\"text-align: right;\">\n",
       "      <th></th>\n",
       "      <th>Open</th>\n",
       "      <th>High</th>\n",
       "      <th>Low</th>\n",
       "      <th>Close</th>\n",
       "      <th>Volume</th>\n",
       "    </tr>\n",
       "    <tr>\n",
       "      <th>Date</th>\n",
       "      <th></th>\n",
       "      <th></th>\n",
       "      <th></th>\n",
       "      <th></th>\n",
       "      <th></th>\n",
       "    </tr>\n",
       "  </thead>\n",
       "  <tbody>\n",
       "    <tr>\n",
       "      <th>2020-10-08</th>\n",
       "      <td>1090.000000</td>\n",
       "      <td>1124.000000</td>\n",
       "      <td>1088.400024</td>\n",
       "      <td>1093.699951</td>\n",
       "      <td>21482613</td>\n",
       "    </tr>\n",
       "    <tr>\n",
       "      <th>2020-10-09</th>\n",
       "      <td>1095.099976</td>\n",
       "      <td>1113.300049</td>\n",
       "      <td>1088.449951</td>\n",
       "      <td>1106.800049</td>\n",
       "      <td>10567867</td>\n",
       "    </tr>\n",
       "    <tr>\n",
       "      <th>2020-10-12</th>\n",
       "      <td>1123.000000</td>\n",
       "      <td>1140.000000</td>\n",
       "      <td>1112.099976</td>\n",
       "      <td>1132.099976</td>\n",
       "      <td>14633537</td>\n",
       "    </tr>\n",
       "    <tr>\n",
       "      <th>2020-10-13</th>\n",
       "      <td>1135.550049</td>\n",
       "      <td>1166.050049</td>\n",
       "      <td>1135.550049</td>\n",
       "      <td>1157.800049</td>\n",
       "      <td>17523825</td>\n",
       "    </tr>\n",
       "    <tr>\n",
       "      <th>2020-10-14</th>\n",
       "      <td>1162.000000</td>\n",
       "      <td>1164.900024</td>\n",
       "      <td>1131.099976</td>\n",
       "      <td>1137.000000</td>\n",
       "      <td>16649573</td>\n",
       "    </tr>\n",
       "    <tr>\n",
       "      <th>...</th>\n",
       "      <td>...</td>\n",
       "      <td>...</td>\n",
       "      <td>...</td>\n",
       "      <td>...</td>\n",
       "      <td>...</td>\n",
       "    </tr>\n",
       "    <tr>\n",
       "      <th>2021-08-13</th>\n",
       "      <td>1697.000000</td>\n",
       "      <td>1722.500000</td>\n",
       "      <td>1691.300049</td>\n",
       "      <td>1712.199951</td>\n",
       "      <td>5612790</td>\n",
       "    </tr>\n",
       "    <tr>\n",
       "      <th>2021-08-16</th>\n",
       "      <td>1707.699951</td>\n",
       "      <td>1719.949951</td>\n",
       "      <td>1690.099976</td>\n",
       "      <td>1704.400024</td>\n",
       "      <td>4564109</td>\n",
       "    </tr>\n",
       "    <tr>\n",
       "      <th>2021-08-17</th>\n",
       "      <td>1703.900024</td>\n",
       "      <td>1748.900024</td>\n",
       "      <td>1686.550049</td>\n",
       "      <td>1741.650024</td>\n",
       "      <td>9510390</td>\n",
       "    </tr>\n",
       "    <tr>\n",
       "      <th>2021-08-18</th>\n",
       "      <td>1729.000000</td>\n",
       "      <td>1755.500000</td>\n",
       "      <td>1727.000000</td>\n",
       "      <td>1733.449951</td>\n",
       "      <td>6686090</td>\n",
       "    </tr>\n",
       "    <tr>\n",
       "      <th>2021-08-20</th>\n",
       "      <td>1716.099976</td>\n",
       "      <td>1745.000000</td>\n",
       "      <td>1716.099976</td>\n",
       "      <td>1732.949951</td>\n",
       "      <td>6206972</td>\n",
       "    </tr>\n",
       "  </tbody>\n",
       "</table>\n",
       "<p>215 rows × 5 columns</p>\n",
       "</div>"
      ],
      "text/plain": [
       "                   Open         High          Low        Close    Volume\n",
       "Date                                                                    \n",
       "2020-10-08  1090.000000  1124.000000  1088.400024  1093.699951  21482613\n",
       "2020-10-09  1095.099976  1113.300049  1088.449951  1106.800049  10567867\n",
       "2020-10-12  1123.000000  1140.000000  1112.099976  1132.099976  14633537\n",
       "2020-10-13  1135.550049  1166.050049  1135.550049  1157.800049  17523825\n",
       "2020-10-14  1162.000000  1164.900024  1131.099976  1137.000000  16649573\n",
       "...                 ...          ...          ...          ...       ...\n",
       "2021-08-13  1697.000000  1722.500000  1691.300049  1712.199951   5612790\n",
       "2021-08-16  1707.699951  1719.949951  1690.099976  1704.400024   4564109\n",
       "2021-08-17  1703.900024  1748.900024  1686.550049  1741.650024   9510390\n",
       "2021-08-18  1729.000000  1755.500000  1727.000000  1733.449951   6686090\n",
       "2021-08-20  1716.099976  1745.000000  1716.099976  1732.949951   6206972\n",
       "\n",
       "[215 rows x 5 columns]"
      ]
     },
     "execution_count": 12,
     "metadata": {},
     "output_type": "execute_result"
    }
   ],
   "source": [
    "# X for model 1\n",
    "data.iloc[33:,:5]"
   ]
  },
  {
   "cell_type": "code",
   "execution_count": 13,
   "metadata": {},
   "outputs": [
    {
     "data": {
      "text/html": [
       "<div>\n",
       "<style scoped>\n",
       "    .dataframe tbody tr th:only-of-type {\n",
       "        vertical-align: middle;\n",
       "    }\n",
       "\n",
       "    .dataframe tbody tr th {\n",
       "        vertical-align: top;\n",
       "    }\n",
       "\n",
       "    .dataframe thead th {\n",
       "        text-align: right;\n",
       "    }\n",
       "</style>\n",
       "<table border=\"1\" class=\"dataframe\">\n",
       "  <thead>\n",
       "    <tr style=\"text-align: right;\">\n",
       "      <th></th>\n",
       "      <th>5EMA</th>\n",
       "      <th>26EMA</th>\n",
       "      <th>rsi</th>\n",
       "      <th>macd</th>\n",
       "      <th>macdSignal</th>\n",
       "      <th>macdHist</th>\n",
       "    </tr>\n",
       "    <tr>\n",
       "      <th>Date</th>\n",
       "      <th></th>\n",
       "      <th></th>\n",
       "      <th></th>\n",
       "      <th></th>\n",
       "      <th></th>\n",
       "      <th></th>\n",
       "    </tr>\n",
       "  </thead>\n",
       "  <tbody>\n",
       "    <tr>\n",
       "      <th>2020-10-08</th>\n",
       "      <td>1061.145075</td>\n",
       "      <td>1009.566273</td>\n",
       "      <td>74.865337</td>\n",
       "      <td>35.519657</td>\n",
       "      <td>30.002912</td>\n",
       "      <td>5.516746</td>\n",
       "    </tr>\n",
       "    <tr>\n",
       "      <th>2020-10-09</th>\n",
       "      <td>1076.363410</td>\n",
       "      <td>1017.291250</td>\n",
       "      <td>76.605798</td>\n",
       "      <td>38.680122</td>\n",
       "      <td>31.738354</td>\n",
       "      <td>6.941768</td>\n",
       "    </tr>\n",
       "    <tr>\n",
       "      <th>2020-10-12</th>\n",
       "      <td>1094.942274</td>\n",
       "      <td>1026.363762</td>\n",
       "      <td>79.550869</td>\n",
       "      <td>42.733699</td>\n",
       "      <td>33.937423</td>\n",
       "      <td>8.796276</td>\n",
       "    </tr>\n",
       "    <tr>\n",
       "      <th>2020-10-13</th>\n",
       "      <td>1115.894872</td>\n",
       "      <td>1036.699085</td>\n",
       "      <td>82.026169</td>\n",
       "      <td>47.472732</td>\n",
       "      <td>36.644485</td>\n",
       "      <td>10.828248</td>\n",
       "    </tr>\n",
       "    <tr>\n",
       "      <th>2020-10-14</th>\n",
       "      <td>1122.929916</td>\n",
       "      <td>1044.550319</td>\n",
       "      <td>74.198005</td>\n",
       "      <td>48.985387</td>\n",
       "      <td>39.112665</td>\n",
       "      <td>9.872722</td>\n",
       "    </tr>\n",
       "    <tr>\n",
       "      <th>...</th>\n",
       "      <td>...</td>\n",
       "      <td>...</td>\n",
       "      <td>...</td>\n",
       "      <td>...</td>\n",
       "      <td>...</td>\n",
       "      <td>...</td>\n",
       "    </tr>\n",
       "    <tr>\n",
       "      <th>2021-08-13</th>\n",
       "      <td>1686.411299</td>\n",
       "      <td>1620.295316</td>\n",
       "      <td>81.019627</td>\n",
       "      <td>39.493425</td>\n",
       "      <td>35.186882</td>\n",
       "      <td>4.306544</td>\n",
       "    </tr>\n",
       "    <tr>\n",
       "      <th>2021-08-16</th>\n",
       "      <td>1692.407541</td>\n",
       "      <td>1626.525295</td>\n",
       "      <td>77.070625</td>\n",
       "      <td>40.126722</td>\n",
       "      <td>36.174850</td>\n",
       "      <td>3.951872</td>\n",
       "    </tr>\n",
       "    <tr>\n",
       "      <th>2021-08-17</th>\n",
       "      <td>1708.821702</td>\n",
       "      <td>1635.053053</td>\n",
       "      <td>81.666455</td>\n",
       "      <td>43.137119</td>\n",
       "      <td>37.567304</td>\n",
       "      <td>5.569816</td>\n",
       "    </tr>\n",
       "    <tr>\n",
       "      <th>2021-08-18</th>\n",
       "      <td>1717.031118</td>\n",
       "      <td>1642.341712</td>\n",
       "      <td>77.961947</td>\n",
       "      <td>44.349965</td>\n",
       "      <td>38.923836</td>\n",
       "      <td>5.426129</td>\n",
       "    </tr>\n",
       "    <tr>\n",
       "      <th>2021-08-20</th>\n",
       "      <td>1722.337396</td>\n",
       "      <td>1649.053433</td>\n",
       "      <td>77.730413</td>\n",
       "      <td>44.754902</td>\n",
       "      <td>40.090049</td>\n",
       "      <td>4.664852</td>\n",
       "    </tr>\n",
       "  </tbody>\n",
       "</table>\n",
       "<p>215 rows × 6 columns</p>\n",
       "</div>"
      ],
      "text/plain": [
       "                   5EMA        26EMA        rsi       macd  macdSignal  \\\n",
       "Date                                                                     \n",
       "2020-10-08  1061.145075  1009.566273  74.865337  35.519657   30.002912   \n",
       "2020-10-09  1076.363410  1017.291250  76.605798  38.680122   31.738354   \n",
       "2020-10-12  1094.942274  1026.363762  79.550869  42.733699   33.937423   \n",
       "2020-10-13  1115.894872  1036.699085  82.026169  47.472732   36.644485   \n",
       "2020-10-14  1122.929916  1044.550319  74.198005  48.985387   39.112665   \n",
       "...                 ...          ...        ...        ...         ...   \n",
       "2021-08-13  1686.411299  1620.295316  81.019627  39.493425   35.186882   \n",
       "2021-08-16  1692.407541  1626.525295  77.070625  40.126722   36.174850   \n",
       "2021-08-17  1708.821702  1635.053053  81.666455  43.137119   37.567304   \n",
       "2021-08-18  1717.031118  1642.341712  77.961947  44.349965   38.923836   \n",
       "2021-08-20  1722.337396  1649.053433  77.730413  44.754902   40.090049   \n",
       "\n",
       "             macdHist  \n",
       "Date                   \n",
       "2020-10-08   5.516746  \n",
       "2020-10-09   6.941768  \n",
       "2020-10-12   8.796276  \n",
       "2020-10-13  10.828248  \n",
       "2020-10-14   9.872722  \n",
       "...               ...  \n",
       "2021-08-13   4.306544  \n",
       "2021-08-16   3.951872  \n",
       "2021-08-17   5.569816  \n",
       "2021-08-18   5.426129  \n",
       "2021-08-20   4.664852  \n",
       "\n",
       "[215 rows x 6 columns]"
      ]
     },
     "execution_count": 13,
     "metadata": {},
     "output_type": "execute_result"
    }
   ],
   "source": [
    "# Y for model 1\n",
    "data.iloc[33:,5:-9]"
   ]
  },
  {
   "cell_type": "code",
   "execution_count": 15,
   "metadata": {
    "colab": {
     "base_uri": "https://localhost:8080/"
    },
    "id": "lz46sy2OkPa2",
    "outputId": "13ee640f-b4ad-429f-955d-fbe1b7046cf8"
   },
   "outputs": [
    {
     "data": {
      "text/plain": [
       "RandomForestRegressor(random_state=0)"
      ]
     },
     "execution_count": 15,
     "metadata": {},
     "output_type": "execute_result"
    }
   ],
   "source": [
    "# Fitting Random Forest Regression to the dataset\n",
    "# import the regressor\n",
    "from sklearn.ensemble import RandomForestRegressor\n",
    "\n",
    "# create regressor object\n",
    "regressor1 = RandomForestRegressor(n_estimators = 100, random_state = 0)\n",
    "\n",
    "# fit the regressor with x and y data\n",
    "# x =Open\tHigh\tLow\tClose\tVolume\n",
    "# y = 5EMA\t26EMA\trsi\tmacd\tmacdSignal\tmacdHist\n",
    "regressor1.fit(np.asarray(data.iloc[33:,:5]),data.iloc[33:,5:-9])"
   ]
  },
  {
   "cell_type": "code",
   "execution_count": 16,
   "metadata": {},
   "outputs": [
    {
     "data": {
      "text/plain": [
       "array([[1714.37257798, 1641.23491116,   78.28470618,   43.79897037,\n",
       "          38.7344813 ,    5.06448907]])"
      ]
     },
     "execution_count": 16,
     "metadata": {},
     "output_type": "execute_result"
    }
   ],
   "source": [
    "# y = 5EMA\t26EMA\trsi\tmacd\tmacdSignal\tmacdHist\n",
    "# test\n",
    "regressor1.predict(np.array([[1729.000000,1755.500000,1727.000000,\t1733.449951,6686090]]))"
   ]
  },
  {
   "cell_type": "code",
   "execution_count": 17,
   "metadata": {},
   "outputs": [
    {
     "data": {
      "text/html": [
       "<div>\n",
       "<style scoped>\n",
       "    .dataframe tbody tr th:only-of-type {\n",
       "        vertical-align: middle;\n",
       "    }\n",
       "\n",
       "    .dataframe tbody tr th {\n",
       "        vertical-align: top;\n",
       "    }\n",
       "\n",
       "    .dataframe thead th {\n",
       "        text-align: right;\n",
       "    }\n",
       "</style>\n",
       "<table border=\"1\" class=\"dataframe\">\n",
       "  <thead>\n",
       "    <tr style=\"text-align: right;\">\n",
       "      <th></th>\n",
       "      <th>5EMA</th>\n",
       "      <th>26EMA</th>\n",
       "      <th>rsi</th>\n",
       "      <th>macd</th>\n",
       "      <th>macdSignal</th>\n",
       "      <th>macdHist</th>\n",
       "    </tr>\n",
       "    <tr>\n",
       "      <th>Date</th>\n",
       "      <th></th>\n",
       "      <th></th>\n",
       "      <th></th>\n",
       "      <th></th>\n",
       "      <th></th>\n",
       "      <th></th>\n",
       "    </tr>\n",
       "  </thead>\n",
       "  <tbody>\n",
       "    <tr>\n",
       "      <th>2020-10-08</th>\n",
       "      <td>1061.145075</td>\n",
       "      <td>1009.566273</td>\n",
       "      <td>74.865337</td>\n",
       "      <td>35.519657</td>\n",
       "      <td>30.002912</td>\n",
       "      <td>5.516746</td>\n",
       "    </tr>\n",
       "    <tr>\n",
       "      <th>2020-10-09</th>\n",
       "      <td>1076.363410</td>\n",
       "      <td>1017.291250</td>\n",
       "      <td>76.605798</td>\n",
       "      <td>38.680122</td>\n",
       "      <td>31.738354</td>\n",
       "      <td>6.941768</td>\n",
       "    </tr>\n",
       "    <tr>\n",
       "      <th>2020-10-12</th>\n",
       "      <td>1094.942274</td>\n",
       "      <td>1026.363762</td>\n",
       "      <td>79.550869</td>\n",
       "      <td>42.733699</td>\n",
       "      <td>33.937423</td>\n",
       "      <td>8.796276</td>\n",
       "    </tr>\n",
       "    <tr>\n",
       "      <th>2020-10-13</th>\n",
       "      <td>1115.894872</td>\n",
       "      <td>1036.699085</td>\n",
       "      <td>82.026169</td>\n",
       "      <td>47.472732</td>\n",
       "      <td>36.644485</td>\n",
       "      <td>10.828248</td>\n",
       "    </tr>\n",
       "    <tr>\n",
       "      <th>2020-10-14</th>\n",
       "      <td>1122.929916</td>\n",
       "      <td>1044.550319</td>\n",
       "      <td>74.198005</td>\n",
       "      <td>48.985387</td>\n",
       "      <td>39.112665</td>\n",
       "      <td>9.872722</td>\n",
       "    </tr>\n",
       "    <tr>\n",
       "      <th>...</th>\n",
       "      <td>...</td>\n",
       "      <td>...</td>\n",
       "      <td>...</td>\n",
       "      <td>...</td>\n",
       "      <td>...</td>\n",
       "      <td>...</td>\n",
       "    </tr>\n",
       "    <tr>\n",
       "      <th>2021-08-13</th>\n",
       "      <td>1686.411299</td>\n",
       "      <td>1620.295316</td>\n",
       "      <td>81.019627</td>\n",
       "      <td>39.493425</td>\n",
       "      <td>35.186882</td>\n",
       "      <td>4.306544</td>\n",
       "    </tr>\n",
       "    <tr>\n",
       "      <th>2021-08-16</th>\n",
       "      <td>1692.407541</td>\n",
       "      <td>1626.525295</td>\n",
       "      <td>77.070625</td>\n",
       "      <td>40.126722</td>\n",
       "      <td>36.174850</td>\n",
       "      <td>3.951872</td>\n",
       "    </tr>\n",
       "    <tr>\n",
       "      <th>2021-08-17</th>\n",
       "      <td>1708.821702</td>\n",
       "      <td>1635.053053</td>\n",
       "      <td>81.666455</td>\n",
       "      <td>43.137119</td>\n",
       "      <td>37.567304</td>\n",
       "      <td>5.569816</td>\n",
       "    </tr>\n",
       "    <tr>\n",
       "      <th>2021-08-18</th>\n",
       "      <td>1717.031118</td>\n",
       "      <td>1642.341712</td>\n",
       "      <td>77.961947</td>\n",
       "      <td>44.349965</td>\n",
       "      <td>38.923836</td>\n",
       "      <td>5.426129</td>\n",
       "    </tr>\n",
       "    <tr>\n",
       "      <th>2021-08-20</th>\n",
       "      <td>1722.337396</td>\n",
       "      <td>1649.053433</td>\n",
       "      <td>77.730413</td>\n",
       "      <td>44.754902</td>\n",
       "      <td>40.090049</td>\n",
       "      <td>4.664852</td>\n",
       "    </tr>\n",
       "  </tbody>\n",
       "</table>\n",
       "<p>215 rows × 6 columns</p>\n",
       "</div>"
      ],
      "text/plain": [
       "                   5EMA        26EMA        rsi       macd  macdSignal  \\\n",
       "Date                                                                     \n",
       "2020-10-08  1061.145075  1009.566273  74.865337  35.519657   30.002912   \n",
       "2020-10-09  1076.363410  1017.291250  76.605798  38.680122   31.738354   \n",
       "2020-10-12  1094.942274  1026.363762  79.550869  42.733699   33.937423   \n",
       "2020-10-13  1115.894872  1036.699085  82.026169  47.472732   36.644485   \n",
       "2020-10-14  1122.929916  1044.550319  74.198005  48.985387   39.112665   \n",
       "...                 ...          ...        ...        ...         ...   \n",
       "2021-08-13  1686.411299  1620.295316  81.019627  39.493425   35.186882   \n",
       "2021-08-16  1692.407541  1626.525295  77.070625  40.126722   36.174850   \n",
       "2021-08-17  1708.821702  1635.053053  81.666455  43.137119   37.567304   \n",
       "2021-08-18  1717.031118  1642.341712  77.961947  44.349965   38.923836   \n",
       "2021-08-20  1722.337396  1649.053433  77.730413  44.754902   40.090049   \n",
       "\n",
       "             macdHist  \n",
       "Date                   \n",
       "2020-10-08   5.516746  \n",
       "2020-10-09   6.941768  \n",
       "2020-10-12   8.796276  \n",
       "2020-10-13  10.828248  \n",
       "2020-10-14   9.872722  \n",
       "...               ...  \n",
       "2021-08-13   4.306544  \n",
       "2021-08-16   3.951872  \n",
       "2021-08-17   5.569816  \n",
       "2021-08-18   5.426129  \n",
       "2021-08-20   4.664852  \n",
       "\n",
       "[215 rows x 6 columns]"
      ]
     },
     "execution_count": 17,
     "metadata": {},
     "output_type": "execute_result"
    }
   ],
   "source": [
    "# x for model 2\n",
    "data.iloc[33:,5:-9]"
   ]
  },
  {
   "cell_type": "code",
   "execution_count": 18,
   "metadata": {},
   "outputs": [
    {
     "data": {
      "text/plain": [
       "Date\n",
       "2020-10-08    3\n",
       "2020-10-09    4\n",
       "2020-10-12    5\n",
       "2020-10-13    3\n",
       "2020-10-14    4\n",
       "             ..\n",
       "2021-08-13    3\n",
       "2021-08-16    4\n",
       "2021-08-17    5\n",
       "2021-08-18    4\n",
       "2021-08-20    5\n",
       "Name: totalScore, Length: 215, dtype: int64"
      ]
     },
     "execution_count": 18,
     "metadata": {},
     "output_type": "execute_result"
    }
   ],
   "source": [
    "# Y for total score\n",
    "data.totalScore[33:]"
   ]
  },
  {
   "cell_type": "code",
   "execution_count": 19,
   "metadata": {
    "colab": {
     "base_uri": "https://localhost:8080/"
    },
    "id": "lz46sy2OkPa2",
    "outputId": "13ee640f-b4ad-429f-955d-fbe1b7046cf8"
   },
   "outputs": [
    {
     "data": {
      "text/plain": [
       "RandomForestRegressor(random_state=0)"
      ]
     },
     "execution_count": 19,
     "metadata": {},
     "output_type": "execute_result"
    }
   ],
   "source": [
    "# Fitting Random Forest Regression to the dataset\n",
    "# import the regressor\n",
    "from sklearn.ensemble import RandomForestRegressor\n",
    "\n",
    "# create regressor object\n",
    "regressor = RandomForestRegressor(n_estimators = 100, random_state = 0)\n",
    "\n",
    "# fit the regressor with x and y data\n",
    "# x =  5EMA\t26EMA\trsi\tmacd\tmacdSignal\tmacdHist \n",
    "# y = total score\n",
    "regressor.fit(np.asarray(data.iloc[33:,5:-9]),data.totalScore[33:])"
   ]
  },
  {
   "cell_type": "code",
   "execution_count": 21,
   "metadata": {
    "colab": {
     "base_uri": "https://localhost:8080/"
    },
    "id": "sDA20GE_xq32",
    "outputId": "d5913c57-7896-480a-d712-b7d9478fe610"
   },
   "outputs": [
    {
     "data": {
      "text/plain": [
       "array([4.28])"
      ]
     },
     "execution_count": 21,
     "metadata": {},
     "output_type": "execute_result"
    }
   ],
   "source": [
    "#final\n",
    "# x = Open\tHigh\tLow\tClose\tVolume\n",
    "# y = total score\n",
    "a = np.array([1703.900024,1748.900024\t,1686.550049\t,1741.650024\t,9510390])\n",
    "regressor.predict(regressor1.predict([a]))"
   ]
  },
  {
   "cell_type": "code",
   "execution_count": null,
   "metadata": {
    "scrolled": true
   },
   "outputs": [],
   "source": []
  },
  {
   "cell_type": "code",
   "execution_count": null,
   "metadata": {},
   "outputs": [],
   "source": []
  }
 ],
 "metadata": {
  "colab": {
   "collapsed_sections": [],
   "name": "Untitled4.ipynb",
   "provenance": []
  },
  "kernelspec": {
   "display_name": "Python 3 (ipykernel)",
   "language": "python",
   "name": "python3"
  },
  "language_info": {
   "codemirror_mode": {
    "name": "ipython",
    "version": 3
   },
   "file_extension": ".py",
   "mimetype": "text/x-python",
   "name": "python",
   "nbconvert_exporter": "python",
   "pygments_lexer": "ipython3",
   "version": "3.8.10"
  }
 },
 "nbformat": 4,
 "nbformat_minor": 1
}
